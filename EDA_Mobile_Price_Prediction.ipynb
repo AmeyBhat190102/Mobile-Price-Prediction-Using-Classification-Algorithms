{
 "cells": [
  {
   "cell_type": "markdown",
   "id": "252ba1f9",
   "metadata": {},
   "source": [
    "# EDA On Mobile Prediction Dataset"
   ]
  },
  {
   "cell_type": "code",
   "execution_count": 15,
   "id": "0c4b2848",
   "metadata": {},
   "outputs": [
    {
     "data": {
      "text/plain": [
       "<Figure size 864x504 with 0 Axes>"
      ]
     },
     "execution_count": 15,
     "metadata": {},
     "output_type": "execute_result"
    },
    {
     "data": {
      "text/plain": [
       "<Figure size 864x504 with 0 Axes>"
      ]
     },
     "metadata": {},
     "output_type": "display_data"
    }
   ],
   "source": [
    "import pandas as pd\n",
    "import numpy as np\n",
    "import matplotlib.pyplot as plt\n",
    "import seaborn as sns\n",
    "plt.figure(figsize =(12, 7))"
   ]
  },
  {
   "cell_type": "code",
   "execution_count": 16,
   "id": "66f6e666",
   "metadata": {},
   "outputs": [],
   "source": [
    "MobileDataset=pd.read_csv(r\"MobileDatasetClassification.csv\")"
   ]
  },
  {
   "cell_type": "code",
   "execution_count": 17,
   "id": "6e029859",
   "metadata": {},
   "outputs": [
    {
     "data": {
      "text/html": [
       "<div>\n",
       "<style scoped>\n",
       "    .dataframe tbody tr th:only-of-type {\n",
       "        vertical-align: middle;\n",
       "    }\n",
       "\n",
       "    .dataframe tbody tr th {\n",
       "        vertical-align: top;\n",
       "    }\n",
       "\n",
       "    .dataframe thead th {\n",
       "        text-align: right;\n",
       "    }\n",
       "</style>\n",
       "<table border=\"1\" class=\"dataframe\">\n",
       "  <thead>\n",
       "    <tr style=\"text-align: right;\">\n",
       "      <th></th>\n",
       "      <th>battery_power</th>\n",
       "      <th>blue</th>\n",
       "      <th>clock_speed</th>\n",
       "      <th>dual_sim</th>\n",
       "      <th>fc</th>\n",
       "      <th>four_g</th>\n",
       "      <th>int_memory</th>\n",
       "      <th>m_dep</th>\n",
       "      <th>mobile_wt</th>\n",
       "      <th>n_cores</th>\n",
       "      <th>...</th>\n",
       "      <th>px_height</th>\n",
       "      <th>px_width</th>\n",
       "      <th>ram</th>\n",
       "      <th>sc_h</th>\n",
       "      <th>sc_w</th>\n",
       "      <th>talk_time</th>\n",
       "      <th>three_g</th>\n",
       "      <th>touch_screen</th>\n",
       "      <th>wifi</th>\n",
       "      <th>price_range</th>\n",
       "    </tr>\n",
       "  </thead>\n",
       "  <tbody>\n",
       "    <tr>\n",
       "      <th>0</th>\n",
       "      <td>842</td>\n",
       "      <td>0</td>\n",
       "      <td>2.2</td>\n",
       "      <td>0</td>\n",
       "      <td>1</td>\n",
       "      <td>0</td>\n",
       "      <td>7</td>\n",
       "      <td>0.6</td>\n",
       "      <td>188</td>\n",
       "      <td>2</td>\n",
       "      <td>...</td>\n",
       "      <td>20</td>\n",
       "      <td>756</td>\n",
       "      <td>2549</td>\n",
       "      <td>9</td>\n",
       "      <td>7</td>\n",
       "      <td>19</td>\n",
       "      <td>0</td>\n",
       "      <td>0</td>\n",
       "      <td>1</td>\n",
       "      <td>1</td>\n",
       "    </tr>\n",
       "    <tr>\n",
       "      <th>1</th>\n",
       "      <td>1021</td>\n",
       "      <td>1</td>\n",
       "      <td>0.5</td>\n",
       "      <td>1</td>\n",
       "      <td>0</td>\n",
       "      <td>1</td>\n",
       "      <td>53</td>\n",
       "      <td>0.7</td>\n",
       "      <td>136</td>\n",
       "      <td>3</td>\n",
       "      <td>...</td>\n",
       "      <td>905</td>\n",
       "      <td>1988</td>\n",
       "      <td>2631</td>\n",
       "      <td>17</td>\n",
       "      <td>3</td>\n",
       "      <td>7</td>\n",
       "      <td>1</td>\n",
       "      <td>1</td>\n",
       "      <td>0</td>\n",
       "      <td>2</td>\n",
       "    </tr>\n",
       "    <tr>\n",
       "      <th>2</th>\n",
       "      <td>563</td>\n",
       "      <td>1</td>\n",
       "      <td>0.5</td>\n",
       "      <td>1</td>\n",
       "      <td>2</td>\n",
       "      <td>1</td>\n",
       "      <td>41</td>\n",
       "      <td>0.9</td>\n",
       "      <td>145</td>\n",
       "      <td>5</td>\n",
       "      <td>...</td>\n",
       "      <td>1263</td>\n",
       "      <td>1716</td>\n",
       "      <td>2603</td>\n",
       "      <td>11</td>\n",
       "      <td>2</td>\n",
       "      <td>9</td>\n",
       "      <td>1</td>\n",
       "      <td>1</td>\n",
       "      <td>0</td>\n",
       "      <td>2</td>\n",
       "    </tr>\n",
       "    <tr>\n",
       "      <th>3</th>\n",
       "      <td>615</td>\n",
       "      <td>1</td>\n",
       "      <td>2.5</td>\n",
       "      <td>0</td>\n",
       "      <td>0</td>\n",
       "      <td>0</td>\n",
       "      <td>10</td>\n",
       "      <td>0.8</td>\n",
       "      <td>131</td>\n",
       "      <td>6</td>\n",
       "      <td>...</td>\n",
       "      <td>1216</td>\n",
       "      <td>1786</td>\n",
       "      <td>2769</td>\n",
       "      <td>16</td>\n",
       "      <td>8</td>\n",
       "      <td>11</td>\n",
       "      <td>1</td>\n",
       "      <td>0</td>\n",
       "      <td>0</td>\n",
       "      <td>2</td>\n",
       "    </tr>\n",
       "    <tr>\n",
       "      <th>4</th>\n",
       "      <td>1821</td>\n",
       "      <td>1</td>\n",
       "      <td>1.2</td>\n",
       "      <td>0</td>\n",
       "      <td>13</td>\n",
       "      <td>1</td>\n",
       "      <td>44</td>\n",
       "      <td>0.6</td>\n",
       "      <td>141</td>\n",
       "      <td>2</td>\n",
       "      <td>...</td>\n",
       "      <td>1208</td>\n",
       "      <td>1212</td>\n",
       "      <td>1411</td>\n",
       "      <td>8</td>\n",
       "      <td>2</td>\n",
       "      <td>15</td>\n",
       "      <td>1</td>\n",
       "      <td>1</td>\n",
       "      <td>0</td>\n",
       "      <td>1</td>\n",
       "    </tr>\n",
       "    <tr>\n",
       "      <th>...</th>\n",
       "      <td>...</td>\n",
       "      <td>...</td>\n",
       "      <td>...</td>\n",
       "      <td>...</td>\n",
       "      <td>...</td>\n",
       "      <td>...</td>\n",
       "      <td>...</td>\n",
       "      <td>...</td>\n",
       "      <td>...</td>\n",
       "      <td>...</td>\n",
       "      <td>...</td>\n",
       "      <td>...</td>\n",
       "      <td>...</td>\n",
       "      <td>...</td>\n",
       "      <td>...</td>\n",
       "      <td>...</td>\n",
       "      <td>...</td>\n",
       "      <td>...</td>\n",
       "      <td>...</td>\n",
       "      <td>...</td>\n",
       "      <td>...</td>\n",
       "    </tr>\n",
       "    <tr>\n",
       "      <th>1995</th>\n",
       "      <td>794</td>\n",
       "      <td>1</td>\n",
       "      <td>0.5</td>\n",
       "      <td>1</td>\n",
       "      <td>0</td>\n",
       "      <td>1</td>\n",
       "      <td>2</td>\n",
       "      <td>0.8</td>\n",
       "      <td>106</td>\n",
       "      <td>6</td>\n",
       "      <td>...</td>\n",
       "      <td>1222</td>\n",
       "      <td>1890</td>\n",
       "      <td>668</td>\n",
       "      <td>13</td>\n",
       "      <td>4</td>\n",
       "      <td>19</td>\n",
       "      <td>1</td>\n",
       "      <td>1</td>\n",
       "      <td>0</td>\n",
       "      <td>0</td>\n",
       "    </tr>\n",
       "    <tr>\n",
       "      <th>1996</th>\n",
       "      <td>1965</td>\n",
       "      <td>1</td>\n",
       "      <td>2.6</td>\n",
       "      <td>1</td>\n",
       "      <td>0</td>\n",
       "      <td>0</td>\n",
       "      <td>39</td>\n",
       "      <td>0.2</td>\n",
       "      <td>187</td>\n",
       "      <td>4</td>\n",
       "      <td>...</td>\n",
       "      <td>915</td>\n",
       "      <td>1965</td>\n",
       "      <td>2032</td>\n",
       "      <td>11</td>\n",
       "      <td>10</td>\n",
       "      <td>16</td>\n",
       "      <td>1</td>\n",
       "      <td>1</td>\n",
       "      <td>1</td>\n",
       "      <td>2</td>\n",
       "    </tr>\n",
       "    <tr>\n",
       "      <th>1997</th>\n",
       "      <td>1911</td>\n",
       "      <td>0</td>\n",
       "      <td>0.9</td>\n",
       "      <td>1</td>\n",
       "      <td>1</td>\n",
       "      <td>1</td>\n",
       "      <td>36</td>\n",
       "      <td>0.7</td>\n",
       "      <td>108</td>\n",
       "      <td>8</td>\n",
       "      <td>...</td>\n",
       "      <td>868</td>\n",
       "      <td>1632</td>\n",
       "      <td>3057</td>\n",
       "      <td>9</td>\n",
       "      <td>1</td>\n",
       "      <td>5</td>\n",
       "      <td>1</td>\n",
       "      <td>1</td>\n",
       "      <td>0</td>\n",
       "      <td>3</td>\n",
       "    </tr>\n",
       "    <tr>\n",
       "      <th>1998</th>\n",
       "      <td>1512</td>\n",
       "      <td>0</td>\n",
       "      <td>0.9</td>\n",
       "      <td>0</td>\n",
       "      <td>4</td>\n",
       "      <td>1</td>\n",
       "      <td>46</td>\n",
       "      <td>0.1</td>\n",
       "      <td>145</td>\n",
       "      <td>5</td>\n",
       "      <td>...</td>\n",
       "      <td>336</td>\n",
       "      <td>670</td>\n",
       "      <td>869</td>\n",
       "      <td>18</td>\n",
       "      <td>10</td>\n",
       "      <td>19</td>\n",
       "      <td>1</td>\n",
       "      <td>1</td>\n",
       "      <td>1</td>\n",
       "      <td>0</td>\n",
       "    </tr>\n",
       "    <tr>\n",
       "      <th>1999</th>\n",
       "      <td>510</td>\n",
       "      <td>1</td>\n",
       "      <td>2.0</td>\n",
       "      <td>1</td>\n",
       "      <td>5</td>\n",
       "      <td>1</td>\n",
       "      <td>45</td>\n",
       "      <td>0.9</td>\n",
       "      <td>168</td>\n",
       "      <td>6</td>\n",
       "      <td>...</td>\n",
       "      <td>483</td>\n",
       "      <td>754</td>\n",
       "      <td>3919</td>\n",
       "      <td>19</td>\n",
       "      <td>4</td>\n",
       "      <td>2</td>\n",
       "      <td>1</td>\n",
       "      <td>1</td>\n",
       "      <td>1</td>\n",
       "      <td>3</td>\n",
       "    </tr>\n",
       "  </tbody>\n",
       "</table>\n",
       "<p>2000 rows × 21 columns</p>\n",
       "</div>"
      ],
      "text/plain": [
       "      battery_power  blue  clock_speed  dual_sim  fc  four_g  int_memory  \\\n",
       "0               842     0          2.2         0   1       0           7   \n",
       "1              1021     1          0.5         1   0       1          53   \n",
       "2               563     1          0.5         1   2       1          41   \n",
       "3               615     1          2.5         0   0       0          10   \n",
       "4              1821     1          1.2         0  13       1          44   \n",
       "...             ...   ...          ...       ...  ..     ...         ...   \n",
       "1995            794     1          0.5         1   0       1           2   \n",
       "1996           1965     1          2.6         1   0       0          39   \n",
       "1997           1911     0          0.9         1   1       1          36   \n",
       "1998           1512     0          0.9         0   4       1          46   \n",
       "1999            510     1          2.0         1   5       1          45   \n",
       "\n",
       "      m_dep  mobile_wt  n_cores  ...  px_height  px_width   ram  sc_h  sc_w  \\\n",
       "0       0.6        188        2  ...         20       756  2549     9     7   \n",
       "1       0.7        136        3  ...        905      1988  2631    17     3   \n",
       "2       0.9        145        5  ...       1263      1716  2603    11     2   \n",
       "3       0.8        131        6  ...       1216      1786  2769    16     8   \n",
       "4       0.6        141        2  ...       1208      1212  1411     8     2   \n",
       "...     ...        ...      ...  ...        ...       ...   ...   ...   ...   \n",
       "1995    0.8        106        6  ...       1222      1890   668    13     4   \n",
       "1996    0.2        187        4  ...        915      1965  2032    11    10   \n",
       "1997    0.7        108        8  ...        868      1632  3057     9     1   \n",
       "1998    0.1        145        5  ...        336       670   869    18    10   \n",
       "1999    0.9        168        6  ...        483       754  3919    19     4   \n",
       "\n",
       "      talk_time  three_g  touch_screen  wifi  price_range  \n",
       "0            19        0             0     1            1  \n",
       "1             7        1             1     0            2  \n",
       "2             9        1             1     0            2  \n",
       "3            11        1             0     0            2  \n",
       "4            15        1             1     0            1  \n",
       "...         ...      ...           ...   ...          ...  \n",
       "1995         19        1             1     0            0  \n",
       "1996         16        1             1     1            2  \n",
       "1997          5        1             1     0            3  \n",
       "1998         19        1             1     1            0  \n",
       "1999          2        1             1     1            3  \n",
       "\n",
       "[2000 rows x 21 columns]"
      ]
     },
     "execution_count": 17,
     "metadata": {},
     "output_type": "execute_result"
    }
   ],
   "source": [
    "MobileDataset"
   ]
  },
  {
   "cell_type": "markdown",
   "id": "70aad33c",
   "metadata": {},
   "source": [
    "#### Whenever a customer is buying a mobile phone one of the main things that he/she need is whelther the phone is available in their budget or not. Also other basic features such as dual sim availabilty or internal memory available or weight of the phone or camera quality of the phone or talk time of the phone or the amount of RAM that is available in the phone is studied by the customer. Below is some analysis of the same"
   ]
  },
  {
   "cell_type": "markdown",
   "id": "7f96410b",
   "metadata": {},
   "source": [
    "### Analysing Nuumber of Phone Of Each Price Range "
   ]
  },
  {
   "cell_type": "code",
   "execution_count": 18,
   "id": "12516661",
   "metadata": {},
   "outputs": [
    {
     "data": {
      "text/plain": [
       "0    500\n",
       "1    500\n",
       "2    500\n",
       "3    500\n",
       "Name: price_range, dtype: int64"
      ]
     },
     "execution_count": 18,
     "metadata": {},
     "output_type": "execute_result"
    }
   ],
   "source": [
    "#As we can see that each of the categories of phones has 500 phones\n",
    "MobileDataset[\"price_range\"].value_counts()"
   ]
  },
  {
   "cell_type": "code",
   "execution_count": 19,
   "id": "305a9e2c",
   "metadata": {},
   "outputs": [
    {
     "data": {
      "text/plain": [
       "<AxesSubplot:xlabel='price_range', ylabel='count'>"
      ]
     },
     "execution_count": 19,
     "metadata": {},
     "output_type": "execute_result"
    },
    {
     "data": {
      "image/png": "[encoded data removed]",
      "text/plain": [
       "<Figure size 432x288 with 1 Axes>"
      ]
     },
     "metadata": {
      "needs_background": "light"
     },
     "output_type": "display_data"
    }
   ],
   "source": [
    "sns.countplot(x=MobileDataset[\"price_range\"])"
   ]
  },
  {
   "cell_type": "markdown",
   "id": "e05dde37",
   "metadata": {},
   "source": [
    "### Analysing the Number of Phone that are Having Bluetooth and are having dual sim as well"
   ]
  },
  {
   "cell_type": "code",
   "execution_count": 20,
   "id": "70f2af88",
   "metadata": {},
   "outputs": [
    {
     "name": "stdout",
     "output_type": "stream",
     "text": [
      "Phone with Bluetooth and Dual Sim:  522\n",
      "Phone with Bluetooth and Not Dual Sim:  468\n",
      "Phone with No Bluetooth and Dual Sim:  497\n",
      "Phone with No Bluetooth and Not Dual Sim:  513\n"
     ]
    }
   ],
   "source": [
    "arr=[]\n",
    "count=0\n",
    "dual_blue,dual_not_blue,not_dual_blue,not_dual_not_blue=0,0,0,0\n",
    "for ele in MobileDataset[\"blue\"]:\n",
    "    if ele==1:\n",
    "        if MobileDataset[\"dual_sim\"][count]==1:\n",
    "            dual_blue+=1\n",
    "        else:\n",
    "            dual_not_blue+=1\n",
    "    else:\n",
    "        if MobileDataset[\"dual_sim\"][count]==1:\n",
    "            not_dual_blue+=1\n",
    "        else:\n",
    "            not_dual_not_blue+=1\n",
    "    count+=1\n",
    "print(\"Phone with Bluetooth and Dual Sim: \",dual_blue)\n",
    "print(\"Phone with Bluetooth and Not Dual Sim: \",dual_not_blue)\n",
    "print(\"Phone with No Bluetooth and Dual Sim: \",not_dual_blue)\n",
    "print(\"Phone with No Bluetooth and Not Dual Sim: \",not_dual_not_blue)\n",
    "\n",
    "array_keys=[\"dual_blue\",\"dual_not_blue\",\"not_dual_blue\",\"not_dual_not_blue\"]\n",
    "array_values=np.array([dual_blue,dual_not_blue,not_dual_blue,not_dual_not_blue])\n",
    "\n"
   ]
  },
  {
   "cell_type": "code",
   "execution_count": 21,
   "id": "a76124c1",
   "metadata": {},
   "outputs": [
    {
     "data": {
      "text/plain": [
       "Text(0, 0.5, 'Count of The Phones')"
      ]
     },
     "execution_count": 21,
     "metadata": {},
     "output_type": "execute_result"
    },
    {
     "data": {
      "image/png": "[encoded data removed]",
      "text/plain": [
       "<Figure size 432x288 with 1 Axes>"
      ]
     },
     "metadata": {
      "needs_background": "light"
     },
     "output_type": "display_data"
    }
   ],
   "source": [
    "plt.bar(array_keys,array_values)\n",
    "plt.xlabel(\"Features of The Mobile Phone\")\n",
    "plt.ylabel(\"Count of The Phones\")"
   ]
  },
  {
   "cell_type": "code",
   "execution_count": 25,
   "id": "124050fa",
   "metadata": {},
   "outputs": [
    {
     "data": {
      "image/png": "[encoded data removed]",
      "text/plain": [
       "<Figure size 432x288 with 1 Axes>"
      ]
     },
     "metadata": {},
     "output_type": "display_data"
    }
   ],
   "source": [
    "t_list4=list(MobileDataset[\"price_range\"])\n",
    "values_x4=[ele for ele in list(set(t_list4))]\n",
    "values_y4=[t_list4.count(ele) for ele in values_x4]\n",
    "plt.pie(values_y4, labels = values_x4,autopct='%.1f%%')\n",
    "plt.show()\n",
    "\n",
    "#All The Range Values Of The Price Of The Mobile Phones \n",
    "#Is Distributed Equally Amoung Each Other"
   ]
  },
  {
   "cell_type": "code",
   "execution_count": 23,
   "id": "2e636fd4",
   "metadata": {},
   "outputs": [
    {
     "data": {
      "text/plain": [
       "<BarContainer object of 4 artists>"
      ]
     },
     "execution_count": 23,
     "metadata": {},
     "output_type": "execute_result"
    },
    {
     "data": {
      "image/png": "[encoded data removed]",
      "text/plain": [
       "<Figure size 432x288 with 1 Axes>"
      ]
     },
     "metadata": {
      "needs_background": "light"
     },
     "output_type": "display_data"
    }
   ],
   "source": [
    "plt.bar(array_keys,array_values)"
   ]
  },
  {
   "cell_type": "code",
   "execution_count": 24,
   "id": "df7d3076",
   "metadata": {},
   "outputs": [
    {
     "data": {
      "image/png": "[encoded data removed]",
      "text/plain": [
       "<Figure size 864x504 with 1 Axes>"
      ]
     },
     "metadata": {},
     "output_type": "display_data"
    }
   ],
   "source": [
    "t_list2=list(MobileDataset[\"n_cores\"])\n",
    "values_x2=[ele for ele in list(set(t_list2))]\n",
    "values_y2=[t_list2.count(ele) for ele in values_x2]\n",
    "plt.figure(figsize =(12, 7))\n",
    "plt.pie(values_y2, labels = values_x2,autopct='%.1f%%')\n",
    "plt.show()\n",
    "\n",
    "# Also This Number Of Cores Attribute Is Very Much Equally Divided \n",
    "# Amoung The Dataset\n",
    "# Thus There Is No Noticible Bias That Can Be Presently Seen"
   ]
  },
  {
   "cell_type": "code",
   "execution_count": 28,
   "id": "134feebd",
   "metadata": {},
   "outputs": [
    {
     "data": {
      "text/plain": [
       "(array([215., 183., 206., 200., 189., 219., 202., 181., 197., 208.]),\n",
       " array([ 256. ,  630.2, 1004.4, 1378.6, 1752.8, 2127. , 2501.2, 2875.4,\n",
       "        3249.6, 3623.8, 3998. ]),\n",
       " <BarContainer object of 10 artists>)"
      ]
     },
     "execution_count": 28,
     "metadata": {},
     "output_type": "execute_result"
    },
    {
     "data": {
      "image/png": "[encoded data removed]",
      "text/plain": [
       "<Figure size 432x288 with 1 Axes>"
      ]
     },
     "metadata": {
      "needs_background": "light"
     },
     "output_type": "display_data"
    }
   ],
   "source": [
    "# It can be observed that more number of phones are in 2250 to 2500 megabytes range\n",
    "# Although they have not much of the majority as they are distributed nearly equally over the range\n",
    "plt.hist(MobileDataset[\"ram\"])"
   ]
  },
  {
   "cell_type": "code",
   "execution_count": 30,
   "id": "c22c7a87",
   "metadata": {},
   "outputs": [
    {
     "data": {
      "text/plain": [
       "(array([223., 199., 210., 199., 190., 185., 193., 201., 197., 203.]),\n",
       " array([ 501. ,  650.7,  800.4,  950.1, 1099.8, 1249.5, 1399.2, 1548.9,\n",
       "        1698.6, 1848.3, 1998. ]),\n",
       " <BarContainer object of 10 artists>)"
      ]
     },
     "execution_count": 30,
     "metadata": {},
     "output_type": "execute_result"
    },
    {
     "data": {
      "image/png": "[encoded data removed]",
      "text/plain": [
       "<Figure size 432x288 with 1 Axes>"
      ]
     },
     "metadata": {
      "needs_background": "light"
     },
     "output_type": "display_data"
    }
   ],
   "source": [
    "# Here also the battery powers are distributed normally over the range\n",
    "plt.hist(MobileDataset[\"battery_power\"])"
   ]
  },
  {
   "cell_type": "markdown",
   "id": "effbfc6a",
   "metadata": {},
   "source": [
    "### Let us analyse how many phones are there with most of the required specifications"
   ]
  },
  {
   "cell_type": "markdown",
   "id": "bae47403",
   "metadata": {},
   "source": [
    "### One of the main requirements maybe touchscreen,wifi and four_g availabilty"
   ]
  },
  {
   "cell_type": "code",
   "execution_count": 37,
   "id": "9992399c",
   "metadata": {},
   "outputs": [
    {
     "name": "stdout",
     "output_type": "stream",
     "text": [
      "The Phone with all specifications and number of phones in each price range are\n",
      "Number of phones in price range 0 : 64\n",
      "Number of phones in price range 1 : 69\n",
      "Number of phones in price range 2 : 54\n",
      "Number of phones in price range 3 : 80\n"
     ]
    },
    {
     "data": {
      "text/plain": [
       "<BarContainer object of 4 artists>"
      ]
     },
     "execution_count": 37,
     "metadata": {},
     "output_type": "execute_result"
    },
    {
     "data": {
      "image/png": "[encoded data removed]",
      "text/plain": [
       "<Figure size 432x288 with 1 Axes>"
      ]
     },
     "metadata": {
      "needs_background": "light"
     },
     "output_type": "display_data"
    }
   ],
   "source": [
    "count=0\n",
    "price0,price1,price2,price3=0,0,0,0\n",
    "for ele in MobileDataset[\"price_range\"]:\n",
    "    if ele==0:\n",
    "        if MobileDataset[\"four_g\"][count]==1 and MobileDataset[\"touch_screen\"][count]==1 and MobileDataset[\"wifi\"][count]==1:\n",
    "            price0+=1\n",
    "    elif ele==1:\n",
    "        if MobileDataset[\"four_g\"][count]==1 and MobileDataset[\"touch_screen\"][count]==1 and MobileDataset[\"wifi\"][count]==1:\n",
    "            price1+=1\n",
    "    elif ele==2:\n",
    "        if MobileDataset[\"four_g\"][count]==1 and MobileDataset[\"touch_screen\"][count]==1 and MobileDataset[\"wifi\"][count]==1:\n",
    "            price2+=1\n",
    "    else:\n",
    "        if MobileDataset[\"four_g\"][count]==1 and MobileDataset[\"touch_screen\"][count]==1 and MobileDataset[\"wifi\"][count]==1:\n",
    "            price3+=1\n",
    "    count+=1\n",
    "    \n",
    "print(\"The Phone with all specifications and number of phones in each price range are\")\n",
    "print(\"Number of phones in price range 0 :\",price0)\n",
    "print(\"Number of phones in price range 1 :\",price1)\n",
    "print(\"Number of phones in price range 2 :\",price2)\n",
    "print(\"Number of phones in price range 3 :\",price3)\n",
    "\n",
    "arr1=[\"price_range 0\",\"price_range 1\",\"price_range 2\",\"price_range 3\"]\n",
    "arr2=np.array([price0,price1,price2,price3])\n",
    "\n",
    "plt.bar(arr1,arr2)"
   ]
  }
 ],
 "metadata": {
  "kernelspec": {
   "display_name": "Python 3",
   "language": "python",
   "name": "python3"
  },
  "language_info": {
   "codemirror_mode": {
    "name": "ipython",
    "version": 3
   },
   "file_extension": ".py",
   "mimetype": "text/x-python",
   "name": "python",
   "nbconvert_exporter": "python",
   "pygments_lexer": "ipython3",
   "version": "3.8.8"
  }
 },
 "nbformat": 4,
 "nbformat_minor": 5
}
