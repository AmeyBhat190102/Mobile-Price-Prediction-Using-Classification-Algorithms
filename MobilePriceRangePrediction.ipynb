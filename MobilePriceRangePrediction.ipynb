{
 "cells": [
  {
   "cell_type": "markdown",
   "id": "a64eb1e3",
   "metadata": {},
   "source": [
    "# Mobile Price Prediction Using Classification Algorithms"
   ]
  },
  {
   "cell_type": "markdown",
   "id": "73e19076",
   "metadata": {},
   "source": [
    "## Exploratory Data Analysis On The Dataset"
   ]
  },
  {
   "cell_type": "code",
   "execution_count": 1,
   "id": "3fcfc757",
   "metadata": {},
   "outputs": [],
   "source": [
    "import pandas as pd\n",
    "import numpy as np\n",
    "import matplotlib.pyplot as plt\n",
    "import seaborn as sns"
   ]
  },
  {
   "cell_type": "code",
   "execution_count": 2,
   "id": "987fe46e",
   "metadata": {},
   "outputs": [],
   "source": [
    "MobileDataset=pd.read_csv(r\"MobileDatasetClassification.csv\")"
   ]
  },
  {
   "cell_type": "code",
   "execution_count": 3,
   "id": "3c3da2e3",
   "metadata": {},
   "outputs": [
    {
     "data": {
      "text/html": [
       "<div>\n",
       "<style scoped>\n",
       "    .dataframe tbody tr th:only-of-type {\n",
       "        vertical-align: middle;\n",
       "    }\n",
       "\n",
       "    .dataframe tbody tr th {\n",
       "        vertical-align: top;\n",
       "    }\n",
       "\n",
       "    .dataframe thead th {\n",
       "        text-align: right;\n",
       "    }\n",
       "</style>\n",
       "<table border=\"1\" class=\"dataframe\">\n",
       "  <thead>\n",
       "    <tr style=\"text-align: right;\">\n",
       "      <th></th>\n",
       "      <th>battery_power</th>\n",
       "      <th>blue</th>\n",
       "      <th>clock_speed</th>\n",
       "      <th>dual_sim</th>\n",
       "      <th>fc</th>\n",
       "      <th>four_g</th>\n",
       "      <th>int_memory</th>\n",
       "      <th>m_dep</th>\n",
       "      <th>mobile_wt</th>\n",
       "      <th>n_cores</th>\n",
       "      <th>...</th>\n",
       "      <th>px_height</th>\n",
       "      <th>px_width</th>\n",
       "      <th>ram</th>\n",
       "      <th>sc_h</th>\n",
       "      <th>sc_w</th>\n",
       "      <th>talk_time</th>\n",
       "      <th>three_g</th>\n",
       "      <th>touch_screen</th>\n",
       "      <th>wifi</th>\n",
       "      <th>price_range</th>\n",
       "    </tr>\n",
       "  </thead>\n",
       "  <tbody>\n",
       "    <tr>\n",
       "      <th>0</th>\n",
       "      <td>842</td>\n",
       "      <td>0</td>\n",
       "      <td>2.2</td>\n",
       "      <td>0</td>\n",
       "      <td>1</td>\n",
       "      <td>0</td>\n",
       "      <td>7</td>\n",
       "      <td>0.6</td>\n",
       "      <td>188</td>\n",
       "      <td>2</td>\n",
       "      <td>...</td>\n",
       "      <td>20</td>\n",
       "      <td>756</td>\n",
       "      <td>2549</td>\n",
       "      <td>9</td>\n",
       "      <td>7</td>\n",
       "      <td>19</td>\n",
       "      <td>0</td>\n",
       "      <td>0</td>\n",
       "      <td>1</td>\n",
       "      <td>1</td>\n",
       "    </tr>\n",
       "    <tr>\n",
       "      <th>1</th>\n",
       "      <td>1021</td>\n",
       "      <td>1</td>\n",
       "      <td>0.5</td>\n",
       "      <td>1</td>\n",
       "      <td>0</td>\n",
       "      <td>1</td>\n",
       "      <td>53</td>\n",
       "      <td>0.7</td>\n",
       "      <td>136</td>\n",
       "      <td>3</td>\n",
       "      <td>...</td>\n",
       "      <td>905</td>\n",
       "      <td>1988</td>\n",
       "      <td>2631</td>\n",
       "      <td>17</td>\n",
       "      <td>3</td>\n",
       "      <td>7</td>\n",
       "      <td>1</td>\n",
       "      <td>1</td>\n",
       "      <td>0</td>\n",
       "      <td>2</td>\n",
       "    </tr>\n",
       "    <tr>\n",
       "      <th>2</th>\n",
       "      <td>563</td>\n",
       "      <td>1</td>\n",
       "      <td>0.5</td>\n",
       "      <td>1</td>\n",
       "      <td>2</td>\n",
       "      <td>1</td>\n",
       "      <td>41</td>\n",
       "      <td>0.9</td>\n",
       "      <td>145</td>\n",
       "      <td>5</td>\n",
       "      <td>...</td>\n",
       "      <td>1263</td>\n",
       "      <td>1716</td>\n",
       "      <td>2603</td>\n",
       "      <td>11</td>\n",
       "      <td>2</td>\n",
       "      <td>9</td>\n",
       "      <td>1</td>\n",
       "      <td>1</td>\n",
       "      <td>0</td>\n",
       "      <td>2</td>\n",
       "    </tr>\n",
       "    <tr>\n",
       "      <th>3</th>\n",
       "      <td>615</td>\n",
       "      <td>1</td>\n",
       "      <td>2.5</td>\n",
       "      <td>0</td>\n",
       "      <td>0</td>\n",
       "      <td>0</td>\n",
       "      <td>10</td>\n",
       "      <td>0.8</td>\n",
       "      <td>131</td>\n",
       "      <td>6</td>\n",
       "      <td>...</td>\n",
       "      <td>1216</td>\n",
       "      <td>1786</td>\n",
       "      <td>2769</td>\n",
       "      <td>16</td>\n",
       "      <td>8</td>\n",
       "      <td>11</td>\n",
       "      <td>1</td>\n",
       "      <td>0</td>\n",
       "      <td>0</td>\n",
       "      <td>2</td>\n",
       "    </tr>\n",
       "    <tr>\n",
       "      <th>4</th>\n",
       "      <td>1821</td>\n",
       "      <td>1</td>\n",
       "      <td>1.2</td>\n",
       "      <td>0</td>\n",
       "      <td>13</td>\n",
       "      <td>1</td>\n",
       "      <td>44</td>\n",
       "      <td>0.6</td>\n",
       "      <td>141</td>\n",
       "      <td>2</td>\n",
       "      <td>...</td>\n",
       "      <td>1208</td>\n",
       "      <td>1212</td>\n",
       "      <td>1411</td>\n",
       "      <td>8</td>\n",
       "      <td>2</td>\n",
       "      <td>15</td>\n",
       "      <td>1</td>\n",
       "      <td>1</td>\n",
       "      <td>0</td>\n",
       "      <td>1</td>\n",
       "    </tr>\n",
       "    <tr>\n",
       "      <th>...</th>\n",
       "      <td>...</td>\n",
       "      <td>...</td>\n",
       "      <td>...</td>\n",
       "      <td>...</td>\n",
       "      <td>...</td>\n",
       "      <td>...</td>\n",
       "      <td>...</td>\n",
       "      <td>...</td>\n",
       "      <td>...</td>\n",
       "      <td>...</td>\n",
       "      <td>...</td>\n",
       "      <td>...</td>\n",
       "      <td>...</td>\n",
       "      <td>...</td>\n",
       "      <td>...</td>\n",
       "      <td>...</td>\n",
       "      <td>...</td>\n",
       "      <td>...</td>\n",
       "      <td>...</td>\n",
       "      <td>...</td>\n",
       "      <td>...</td>\n",
       "    </tr>\n",
       "    <tr>\n",
       "      <th>1995</th>\n",
       "      <td>794</td>\n",
       "      <td>1</td>\n",
       "      <td>0.5</td>\n",
       "      <td>1</td>\n",
       "      <td>0</td>\n",
       "      <td>1</td>\n",
       "      <td>2</td>\n",
       "      <td>0.8</td>\n",
       "      <td>106</td>\n",
       "      <td>6</td>\n",
       "      <td>...</td>\n",
       "      <td>1222</td>\n",
       "      <td>1890</td>\n",
       "      <td>668</td>\n",
       "      <td>13</td>\n",
       "      <td>4</td>\n",
       "      <td>19</td>\n",
       "      <td>1</td>\n",
       "      <td>1</td>\n",
       "      <td>0</td>\n",
       "      <td>0</td>\n",
       "    </tr>\n",
       "    <tr>\n",
       "      <th>1996</th>\n",
       "      <td>1965</td>\n",
       "      <td>1</td>\n",
       "      <td>2.6</td>\n",
       "      <td>1</td>\n",
       "      <td>0</td>\n",
       "      <td>0</td>\n",
       "      <td>39</td>\n",
       "      <td>0.2</td>\n",
       "      <td>187</td>\n",
       "      <td>4</td>\n",
       "      <td>...</td>\n",
       "      <td>915</td>\n",
       "      <td>1965</td>\n",
       "      <td>2032</td>\n",
       "      <td>11</td>\n",
       "      <td>10</td>\n",
       "      <td>16</td>\n",
       "      <td>1</td>\n",
       "      <td>1</td>\n",
       "      <td>1</td>\n",
       "      <td>2</td>\n",
       "    </tr>\n",
       "    <tr>\n",
       "      <th>1997</th>\n",
       "      <td>1911</td>\n",
       "      <td>0</td>\n",
       "      <td>0.9</td>\n",
       "      <td>1</td>\n",
       "      <td>1</td>\n",
       "      <td>1</td>\n",
       "      <td>36</td>\n",
       "      <td>0.7</td>\n",
       "      <td>108</td>\n",
       "      <td>8</td>\n",
       "      <td>...</td>\n",
       "      <td>868</td>\n",
       "      <td>1632</td>\n",
       "      <td>3057</td>\n",
       "      <td>9</td>\n",
       "      <td>1</td>\n",
       "      <td>5</td>\n",
       "      <td>1</td>\n",
       "      <td>1</td>\n",
       "      <td>0</td>\n",
       "      <td>3</td>\n",
       "    </tr>\n",
       "    <tr>\n",
       "      <th>1998</th>\n",
       "      <td>1512</td>\n",
       "      <td>0</td>\n",
       "      <td>0.9</td>\n",
       "      <td>0</td>\n",
       "      <td>4</td>\n",
       "      <td>1</td>\n",
       "      <td>46</td>\n",
       "      <td>0.1</td>\n",
       "      <td>145</td>\n",
       "      <td>5</td>\n",
       "      <td>...</td>\n",
       "      <td>336</td>\n",
       "      <td>670</td>\n",
       "      <td>869</td>\n",
       "      <td>18</td>\n",
       "      <td>10</td>\n",
       "      <td>19</td>\n",
       "      <td>1</td>\n",
       "      <td>1</td>\n",
       "      <td>1</td>\n",
       "      <td>0</td>\n",
       "    </tr>\n",
       "    <tr>\n",
       "      <th>1999</th>\n",
       "      <td>510</td>\n",
       "      <td>1</td>\n",
       "      <td>2.0</td>\n",
       "      <td>1</td>\n",
       "      <td>5</td>\n",
       "      <td>1</td>\n",
       "      <td>45</td>\n",
       "      <td>0.9</td>\n",
       "      <td>168</td>\n",
       "      <td>6</td>\n",
       "      <td>...</td>\n",
       "      <td>483</td>\n",
       "      <td>754</td>\n",
       "      <td>3919</td>\n",
       "      <td>19</td>\n",
       "      <td>4</td>\n",
       "      <td>2</td>\n",
       "      <td>1</td>\n",
       "      <td>1</td>\n",
       "      <td>1</td>\n",
       "      <td>3</td>\n",
       "    </tr>\n",
       "  </tbody>\n",
       "</table>\n",
       "<p>2000 rows × 21 columns</p>\n",
       "</div>"
      ],
      "text/plain": [
       "      battery_power  blue  clock_speed  dual_sim  fc  four_g  int_memory  \\\n",
       "0               842     0          2.2         0   1       0           7   \n",
       "1              1021     1          0.5         1   0       1          53   \n",
       "2               563     1          0.5         1   2       1          41   \n",
       "3               615     1          2.5         0   0       0          10   \n",
       "4              1821     1          1.2         0  13       1          44   \n",
       "...             ...   ...          ...       ...  ..     ...         ...   \n",
       "1995            794     1          0.5         1   0       1           2   \n",
       "1996           1965     1          2.6         1   0       0          39   \n",
       "1997           1911     0          0.9         1   1       1          36   \n",
       "1998           1512     0          0.9         0   4       1          46   \n",
       "1999            510     1          2.0         1   5       1          45   \n",
       "\n",
       "      m_dep  mobile_wt  n_cores  ...  px_height  px_width   ram  sc_h  sc_w  \\\n",
       "0       0.6        188        2  ...         20       756  2549     9     7   \n",
       "1       0.7        136        3  ...        905      1988  2631    17     3   \n",
       "2       0.9        145        5  ...       1263      1716  2603    11     2   \n",
       "3       0.8        131        6  ...       1216      1786  2769    16     8   \n",
       "4       0.6        141        2  ...       1208      1212  1411     8     2   \n",
       "...     ...        ...      ...  ...        ...       ...   ...   ...   ...   \n",
       "1995    0.8        106        6  ...       1222      1890   668    13     4   \n",
       "1996    0.2        187        4  ...        915      1965  2032    11    10   \n",
       "1997    0.7        108        8  ...        868      1632  3057     9     1   \n",
       "1998    0.1        145        5  ...        336       670   869    18    10   \n",
       "1999    0.9        168        6  ...        483       754  3919    19     4   \n",
       "\n",
       "      talk_time  three_g  touch_screen  wifi  price_range  \n",
       "0            19        0             0     1            1  \n",
       "1             7        1             1     0            2  \n",
       "2             9        1             1     0            2  \n",
       "3            11        1             0     0            2  \n",
       "4            15        1             1     0            1  \n",
       "...         ...      ...           ...   ...          ...  \n",
       "1995         19        1             1     0            0  \n",
       "1996         16        1             1     1            2  \n",
       "1997          5        1             1     0            3  \n",
       "1998         19        1             1     1            0  \n",
       "1999          2        1             1     1            3  \n",
       "\n",
       "[2000 rows x 21 columns]"
      ]
     },
     "execution_count": 3,
     "metadata": {},
     "output_type": "execute_result"
    }
   ],
   "source": [
    "MobileDataset"
   ]
  },
  {
   "cell_type": "markdown",
   "id": "19ac2f49",
   "metadata": {},
   "source": [
    "## Exploring The Rows And Columns Of The Dataset"
   ]
  },
  {
   "cell_type": "code",
   "execution_count": 4,
   "id": "01d83211",
   "metadata": {},
   "outputs": [
    {
     "name": "stdout",
     "output_type": "stream",
     "text": [
      "Columns In Dataset Are : Index(['battery_power', 'blue', 'clock_speed', 'dual_sim', 'fc', 'four_g',\n",
      "       'int_memory', 'm_dep', 'mobile_wt', 'n_cores', 'pc', 'px_height',\n",
      "       'px_width', 'ram', 'sc_h', 'sc_w', 'talk_time', 'three_g',\n",
      "       'touch_screen', 'wifi', 'price_range'],\n",
      "      dtype='object')\n",
      "Number of Columns Present are : 21\n"
     ]
    }
   ],
   "source": [
    "print(\"Columns In Dataset Are :\",MobileDataset.columns)\n",
    "print(\"Number of Columns Present are :\",len(MobileDataset.columns))"
   ]
  },
  {
   "cell_type": "markdown",
   "id": "3eeb2704",
   "metadata": {},
   "source": [
    "## Checking For Null Values In The Dataset"
   ]
  },
  {
   "cell_type": "code",
   "execution_count": 5,
   "id": "fab3187f",
   "metadata": {},
   "outputs": [
    {
     "data": {
      "text/plain": [
       "battery_power    0\n",
       "blue             0\n",
       "clock_speed      0\n",
       "dual_sim         0\n",
       "fc               0\n",
       "four_g           0\n",
       "int_memory       0\n",
       "m_dep            0\n",
       "mobile_wt        0\n",
       "n_cores          0\n",
       "pc               0\n",
       "px_height        0\n",
       "px_width         0\n",
       "ram              0\n",
       "sc_h             0\n",
       "sc_w             0\n",
       "talk_time        0\n",
       "three_g          0\n",
       "touch_screen     0\n",
       "wifi             0\n",
       "price_range      0\n",
       "dtype: int64"
      ]
     },
     "execution_count": 5,
     "metadata": {},
     "output_type": "execute_result"
    }
   ],
   "source": [
    "MobileDataset.isna().sum()"
   ]
  },
  {
   "cell_type": "markdown",
   "id": "278c132e",
   "metadata": {},
   "source": [
    "## Plotting Histograms for the Numerical Attributes Present"
   ]
  },
  {
   "cell_type": "code",
   "execution_count": 6,
   "id": "237c74c1",
   "metadata": {},
   "outputs": [
    {
     "data": {
      "text/plain": [
       "<AxesSubplot:xlabel='battery_power', ylabel='Count'>"
      ]
     },
     "execution_count": 6,
     "metadata": {},
     "output_type": "execute_result"
    },
    {
     "data": {
      "image/png": "[encoded data removed]",
      "text/plain": [
       "<Figure size 432x288 with 1 Axes>"
      ]
     },
     "metadata": {
      "needs_background": "light"
     },
     "output_type": "display_data"
    }
   ],
   "source": [
    "sns.histplot(MobileDataset[\"battery_power\"])"
   ]
  },
  {
   "cell_type": "code",
   "execution_count": 7,
   "id": "e8b0ebfa",
   "metadata": {},
   "outputs": [
    {
     "data": {
      "text/plain": [
       "<AxesSubplot:xlabel='fc', ylabel='Count'>"
      ]
     },
     "execution_count": 7,
     "metadata": {},
     "output_type": "execute_result"
    },
    {
     "data": {
      "image/png": "[encoded data removed]",
      "text/plain": [
       "<Figure size 432x288 with 1 Axes>"
      ]
     },
     "metadata": {
      "needs_background": "light"
     },
     "output_type": "display_data"
    }
   ],
   "source": [
    "sns.histplot(MobileDataset[\"fc\"])"
   ]
  },
  {
   "cell_type": "code",
   "execution_count": 8,
   "id": "893302e8",
   "metadata": {},
   "outputs": [
    {
     "data": {
      "text/plain": [
       "<AxesSubplot:xlabel='clock_speed', ylabel='Count'>"
      ]
     },
     "execution_count": 8,
     "metadata": {},
     "output_type": "execute_result"
    },
    {
     "data": {
      "image/png": "[encoded data removed]",
      "text/plain": [
       "<Figure size 432x288 with 1 Axes>"
      ]
     },
     "metadata": {
      "needs_background": "light"
     },
     "output_type": "display_data"
    }
   ],
   "source": [
    "sns.histplot(MobileDataset[\"clock_speed\"])"
   ]
  },
  {
   "cell_type": "markdown",
   "id": "31c1613c",
   "metadata": {},
   "source": [
    "## Plotting Pie Charts For The Categorical Attributes"
   ]
  },
  {
   "cell_type": "markdown",
   "id": "054d9638",
   "metadata": {},
   "source": [
    "### Analysing The Three_g  Attribute"
   ]
  },
  {
   "cell_type": "code",
   "execution_count": 34,
   "id": "ab80131c",
   "metadata": {},
   "outputs": [
    {
     "data": {
      "image/png": "[encoded data removed]",
      "text/plain": [
       "<Figure size 576x360 with 1 Axes>"
      ]
     },
     "metadata": {},
     "output_type": "display_data"
    }
   ],
   "source": [
    "t_list=list(MobileDataset[\"three_g\"])\n",
    "values_x=[ele for ele in list(set(t_list))]\n",
    "values_y=[t_list.count(ele) for ele in values_x]\n",
    "\n",
    "fig = plt.figure(figsize =(8, 5))\n",
    "plt.pie(values_y, labels = values_x,autopct='%.1f%%')\n",
    "plt.show()\n",
    "\n",
    "# It Can be Seen That Most Of The Mobile is Present In The # \n",
    "# Dataset Are more Baised Towards Being Three_G\n",
    "# Very Few Amount Of Mobiles Are Not Compatible With Three_G As A Result"
   ]
  },
  {
   "cell_type": "markdown",
   "id": "307bc25f",
   "metadata": {},
   "source": [
    "### Analysing The Wifi  Attribute"
   ]
  },
  {
   "cell_type": "code",
   "execution_count": 35,
   "id": "76f5f755",
   "metadata": {},
   "outputs": [
    {
     "data": {
      "image/png": "[encoded data removed]",
      "text/plain": [
       "<Figure size 576x360 with 1 Axes>"
      ]
     },
     "metadata": {},
     "output_type": "display_data"
    }
   ],
   "source": [
    "t_list1=list(MobileDataset[\"wifi\"])\n",
    "values_x1=[ele for ele in list(set(t_list1))]\n",
    "values_y1=[t_list1.count(ele) for ele in values_x1]\n",
    "\n",
    "fig = plt.figure(figsize =(8, 5))\n",
    "plt.pie(values_y1, labels = values_x1,autopct='%.1f%%')\n",
    "plt.show()\n",
    "\n",
    "#This Wifi Attribute Is Pretty Much Balanced Towards \n",
    "#Both The Values Of The Attributes"
   ]
  },
  {
   "cell_type": "markdown",
   "id": "d00295e5",
   "metadata": {},
   "source": [
    "### Analysing The Number Of Cores  Attribute"
   ]
  },
  {
   "cell_type": "code",
   "execution_count": 37,
   "id": "2f380e95",
   "metadata": {},
   "outputs": [
    {
     "data": {
      "image/png": "[encoded data removed]",
      "text/plain": [
       "<Figure size 576x360 with 1 Axes>"
      ]
     },
     "metadata": {},
     "output_type": "display_data"
    }
   ],
   "source": [
    "t_list2=list(MobileDataset[\"n_cores\"])\n",
    "values_x2=[ele for ele in list(set(t_list2))]\n",
    "values_y2=[t_list2.count(ele) for ele in values_x2]\n",
    "\n",
    "fig = plt.figure(figsize =(8, 5))\n",
    "plt.pie(values_y2, labels = values_x2,autopct='%.1f%%')\n",
    "plt.show()\n",
    "\n",
    "# Also This Number Of Cores Attribute Is Very Much Equally Divided \n",
    "# Amoung The Dataset\n",
    "# Thus There Is No Noticible Bias That Can Be Presently Seen"
   ]
  },
  {
   "cell_type": "markdown",
   "id": "4d572c83",
   "metadata": {},
   "source": [
    "### Analysing The Touch Screen  Attribute"
   ]
  },
  {
   "cell_type": "code",
   "execution_count": 39,
   "id": "21495cbd",
   "metadata": {},
   "outputs": [
    {
     "data": {
      "image/png": "[encoded data removed]",
      "text/plain": [
       "<Figure size 576x360 with 1 Axes>"
      ]
     },
     "metadata": {},
     "output_type": "display_data"
    }
   ],
   "source": [
    "t_list3=list(MobileDataset[\"touch_screen\"])\n",
    "values_x3=[ele for ele in list(set(t_list3))]\n",
    "values_y3=[t_list3.count(ele) for ele in values_x3]\n",
    "\n",
    "fig = plt.figure(figsize =(8, 5))\n",
    "plt.pie(values_y3, labels = values_x3,autopct='%.1f%%')\n",
    "plt.show()\n",
    "\n",
    "# It Can Be Seen That Most Of The Phone That Are Present Are Touch Screen \n",
    "# But The Amount Of Non Touch Screen Phones Is Also\n",
    "# A Considerable One As Well"
   ]
  },
  {
   "cell_type": "markdown",
   "id": "69ea0542",
   "metadata": {},
   "source": [
    "### Analysing The Outcome Variable:- price_range"
   ]
  },
  {
   "cell_type": "code",
   "execution_count": 41,
   "id": "4232b628",
   "metadata": {},
   "outputs": [
    {
     "data": {
      "image/png": "[encoded data removed]",
      "text/plain": [
       "<Figure size 576x360 with 1 Axes>"
      ]
     },
     "metadata": {},
     "output_type": "display_data"
    }
   ],
   "source": [
    "t_list4=list(MobileDataset[\"price_range\"])\n",
    "values_x4=[ele for ele in list(set(t_list4))]\n",
    "values_y4=[t_list4.count(ele) for ele in values_x4]\n",
    "\n",
    "fig = plt.figure(figsize =(8, 5))\n",
    "plt.pie(values_y4, labels = values_x4,autopct='%.1f%%')\n",
    "plt.show()\n",
    "\n",
    "#All The Range Values Of The Price Of The Mobile Phones \n",
    "#Is Distributed Equally Amoung Each Other"
   ]
  },
  {
   "cell_type": "markdown",
   "id": "036b1c54",
   "metadata": {},
   "source": [
    "## Checking For Corellated Features In Dataset"
   ]
  },
  {
   "cell_type": "code",
   "execution_count": 10,
   "id": "b2c0524e",
   "metadata": {},
   "outputs": [
    {
     "data": {
      "text/plain": [
       "<AxesSubplot:>"
      ]
     },
     "execution_count": 10,
     "metadata": {},
     "output_type": "execute_result"
    },
    {
     "data": {
      "image/png": "[encoded data removed]",
      "text/plain": [
       "<Figure size 1440x1440 with 2 Axes>"
      ]
     },
     "metadata": {
      "needs_background": "light"
     },
     "output_type": "display_data"
    }
   ],
   "source": [
    "correlation=MobileDataset.corr()\n",
    "plt.figure(figsize=(20,20))\n",
    "sns.heatmap(correlation,annot=True)"
   ]
  },
  {
   "cell_type": "markdown",
   "id": "15c82c82",
   "metadata": {},
   "source": [
    "### Feature \"ram\" is Highly Correlated With Output Attribute That is \"price_range\""
   ]
  },
  {
   "cell_type": "markdown",
   "id": "9b5972da",
   "metadata": {},
   "source": [
    "## Model Training And Fitting On The Dataset"
   ]
  },
  {
   "cell_type": "code",
   "execution_count": 53,
   "id": "4351979a",
   "metadata": {},
   "outputs": [
    {
     "name": "stdout",
     "output_type": "stream",
     "text": [
      "(1400, 20) (600, 20)\n",
      "(1400,) (600,)\n"
     ]
    }
   ],
   "source": [
    "from sklearn.model_selection import train_test_split\n",
    "column_names=[column_name for column_name in MobileDataset.columns if column_name!=\"price_range\"]\n",
    "X=MobileDataset[column_names]\n",
    "y=MobileDataset[\"price_range\"]\n",
    "X_train,X_test,y_train,y_test=train_test_split(X,y,random_state=71,test_size=0.30)\n",
    "print(X_train.shape,X_test.shape)\n",
    "print(y_train.shape,y_test.shape)"
   ]
  },
  {
   "cell_type": "markdown",
   "id": "60174be4",
   "metadata": {},
   "source": [
    "## Classification Using Logistic Regression"
   ]
  },
  {
   "cell_type": "code",
   "execution_count": 54,
   "id": "07c52a3a",
   "metadata": {},
   "outputs": [
    {
     "name": "stderr",
     "output_type": "stream",
     "text": [
      "C:\\Users\\Admin\\anaconda3\\lib\\site-packages\\sklearn\\linear_model\\_logistic.py:763: ConvergenceWarning: lbfgs failed to converge (status=1):\n",
      "STOP: TOTAL NO. of ITERATIONS REACHED LIMIT.\n",
      "\n",
      "Increase the number of iterations (max_iter) or scale the data as shown in:\n",
      "    https://scikit-learn.org/stable/modules/preprocessing.html\n",
      "Please also refer to the documentation for alternative solver options:\n",
      "    https://scikit-learn.org/stable/modules/linear_model.html#logistic-regression\n",
      "  n_iter_i = _check_optimize_result(\n"
     ]
    },
    {
     "data": {
      "text/plain": [
       "array([0, 0, 0, 1, 2, 2, 3, 0, 1, 0, 2, 3, 1, 3, 0, 3, 3, 0, 2, 2, 2, 3,\n",
       "       2, 0, 0, 2, 2, 3, 3, 1, 2, 2, 0, 1, 2, 1, 1, 2, 2, 1, 0, 3, 3, 2,\n",
       "       2, 1, 1, 3, 0, 3, 1, 3, 1, 3, 3, 2, 3, 3, 0, 3, 3, 3, 3, 3, 1, 2,\n",
       "       3, 3, 0, 1, 0, 1, 3, 0, 2, 1, 1, 0, 2, 0, 2, 0, 0, 3, 0, 2, 0, 0,\n",
       "       2, 0, 1, 3, 3, 2, 2, 2, 2, 2, 3, 3, 1, 2, 1, 0, 0, 3, 0, 0, 2, 3,\n",
       "       1, 1, 0, 0, 1, 1, 1, 3, 0, 3, 0, 0, 3, 1, 1, 0, 3, 1, 3, 2, 2, 1,\n",
       "       3, 1, 1, 0, 3, 3, 0, 3, 3, 2, 1, 2, 1, 1, 1, 0, 3, 2, 1, 3, 0, 3,\n",
       "       3, 2, 0, 0, 3, 3, 1, 3, 1, 0, 0, 3, 1, 1, 2, 1, 3, 0, 0, 0, 3, 2,\n",
       "       1, 1, 0, 1, 3, 1, 2, 1, 3, 1, 3, 1, 3, 3, 0, 3, 2, 0, 0, 3, 1, 2,\n",
       "       3, 3, 3, 0, 0, 2, 2, 1, 1, 1, 2, 2, 3, 0, 3, 0, 1, 3, 0, 1, 2, 1,\n",
       "       1, 3, 3, 3, 0, 2, 0, 0, 3, 2, 0, 2, 0, 2, 3, 1, 3, 2, 3, 3, 2, 1,\n",
       "       2, 2, 2, 3, 0, 3, 2, 3, 2, 3, 2, 3, 3, 2, 0, 0, 0, 3, 3, 0, 2, 1,\n",
       "       2, 1, 0, 2, 0, 0, 2, 1, 0, 2, 3, 0, 3, 2, 3, 1, 1, 0, 3, 2, 1, 3,\n",
       "       0, 3, 0, 0, 2, 1, 3, 0, 0, 0, 3, 0, 0, 0, 1, 3, 2, 3, 0, 1, 3, 3,\n",
       "       0, 2, 2, 0, 0, 1, 0, 2, 3, 0, 0, 2, 2, 3, 3, 1, 2, 3, 1, 3, 3, 1,\n",
       "       2, 2, 2, 3, 1, 1, 0, 0, 2, 1, 3, 2, 2, 1, 0, 2, 2, 2, 3, 2, 2, 2,\n",
       "       1, 3, 2, 0, 1, 3, 3, 2, 2, 0, 1, 1, 3, 0, 3, 1, 2, 0, 0, 3, 3, 0,\n",
       "       2, 0, 3, 1, 2, 2, 0, 1, 2, 1, 2, 2, 0, 2, 3, 0, 2, 2, 1, 1, 3, 1,\n",
       "       2, 2, 3, 3, 0, 1, 1, 3, 2, 2, 3, 1, 0, 3, 3, 2, 1, 1, 3, 0, 3, 0,\n",
       "       1, 0, 1, 1, 3, 3, 3, 3, 2, 1, 3, 0, 2, 1, 3, 3, 2, 1, 2, 3, 3, 1,\n",
       "       3, 2, 2, 2, 0, 1, 0, 2, 3, 3, 0, 1, 1, 3, 0, 1, 0, 0, 0, 2, 2, 1,\n",
       "       1, 2, 0, 2, 0, 2, 0, 0, 1, 3, 2, 1, 2, 2, 1, 0, 1, 0, 3, 3, 2, 3,\n",
       "       3, 0, 0, 2, 3, 3, 2, 1, 2, 1, 1, 0, 3, 2, 0, 1, 0, 1, 1, 0, 0, 3,\n",
       "       0, 2, 3, 1, 3, 3, 3, 0, 1, 0, 2, 0, 0, 1, 1, 2, 0, 2, 1, 3, 0, 3,\n",
       "       3, 0, 1, 2, 1, 1, 1, 1, 2, 1, 3, 0, 2, 3, 3, 1, 0, 1, 3, 1, 1, 2,\n",
       "       3, 2, 2, 0, 0, 1, 2, 2, 2, 3, 0, 3, 3, 0, 3, 3, 0, 3, 0, 3, 0, 3,\n",
       "       3, 3, 2, 1, 2, 1, 3, 1, 2, 3, 3, 0, 1, 0, 0, 0, 1, 2, 1, 0, 0, 2,\n",
       "       1, 0, 3, 1, 1, 3], dtype=int64)"
      ]
     },
     "execution_count": 54,
     "metadata": {},
     "output_type": "execute_result"
    }
   ],
   "source": [
    "from sklearn import linear_model\n",
    "logr = linear_model.LogisticRegression()\n",
    "logr.fit(X_train,y_train)\n",
    "\n",
    "y_pred_logistic = logr.predict(X_test)\n",
    "y_pred_logistic"
   ]
  },
  {
   "cell_type": "code",
   "execution_count": 55,
   "id": "ca64a6bd",
   "metadata": {},
   "outputs": [
    {
     "name": "stdout",
     "output_type": "stream",
     "text": [
      "Accuracy of logistic regression classifier on test set: 0.63\n"
     ]
    }
   ],
   "source": [
    "print('Accuracy of logistic regression classifier on test set: {:.2f}'.format(logr.score(X_test, y_test)))"
   ]
  },
  {
   "cell_type": "markdown",
   "id": "42abc04a",
   "metadata": {},
   "source": [
    "## Classification Using Decision Tree Classifier"
   ]
  },
  {
   "cell_type": "code",
   "execution_count": 57,
   "id": "92768946",
   "metadata": {},
   "outputs": [
    {
     "data": {
      "text/plain": [
       "array([0, 0, 0, 1, 2, 2, 2, 1, 1, 0, 3, 3, 1, 3, 0, 3, 3, 0, 1, 1, 2, 2,\n",
       "       2, 0, 0, 2, 1, 3, 3, 2, 2, 2, 0, 1, 2, 1, 1, 2, 2, 2, 1, 1, 3, 3,\n",
       "       3, 1, 2, 3, 0, 1, 0, 3, 1, 3, 3, 1, 3, 3, 0, 3, 3, 3, 2, 3, 2, 2,\n",
       "       2, 3, 0, 0, 0, 1, 2, 0, 1, 0, 2, 0, 2, 0, 2, 0, 0, 3, 0, 3, 0, 0,\n",
       "       3, 0, 1, 3, 3, 1, 2, 3, 3, 2, 3, 2, 0, 2, 1, 0, 0, 3, 0, 0, 2, 3,\n",
       "       1, 1, 0, 1, 1, 1, 0, 3, 0, 3, 1, 0, 3, 0, 1, 0, 2, 0, 2, 2, 2, 1,\n",
       "       1, 2, 2, 0, 3, 3, 0, 1, 3, 2, 2, 2, 2, 2, 1, 0, 3, 2, 0, 2, 0, 3,\n",
       "       3, 3, 0, 1, 2, 2, 0, 3, 1, 0, 0, 3, 2, 1, 3, 2, 3, 0, 0, 1, 3, 2,\n",
       "       2, 1, 0, 2, 3, 1, 1, 1, 1, 1, 3, 0, 2, 2, 0, 3, 2, 0, 0, 3, 1, 3,\n",
       "       3, 2, 3, 1, 0, 3, 3, 0, 1, 2, 1, 1, 3, 0, 3, 1, 0, 2, 0, 2, 2, 0,\n",
       "       0, 3, 2, 3, 1, 2, 0, 0, 3, 2, 0, 2, 1, 0, 3, 1, 3, 2, 3, 2, 3, 1,\n",
       "       1, 2, 2, 2, 0, 2, 3, 3, 3, 3, 1, 3, 2, 1, 0, 0, 0, 3, 2, 0, 2, 0,\n",
       "       3, 1, 0, 3, 0, 0, 2, 0, 0, 2, 2, 0, 3, 2, 3, 1, 2, 0, 3, 2, 1, 2,\n",
       "       1, 2, 0, 0, 2, 1, 3, 0, 0, 0, 2, 0, 1, 0, 0, 2, 3, 3, 0, 1, 2, 2,\n",
       "       1, 2, 2, 1, 0, 1, 0, 3, 2, 1, 0, 2, 2, 3, 3, 1, 1, 2, 1, 3, 2, 1,\n",
       "       3, 1, 2, 2, 0, 0, 0, 0, 1, 1, 3, 1, 2, 1, 1, 1, 2, 1, 3, 1, 2, 2,\n",
       "       2, 2, 2, 0, 1, 3, 3, 2, 3, 0, 1, 1, 3, 0, 3, 2, 2, 0, 0, 3, 3, 0,\n",
       "       1, 0, 2, 2, 1, 3, 0, 1, 1, 2, 2, 2, 0, 2, 2, 1, 1, 3, 2, 0, 2, 2,\n",
       "       2, 2, 3, 2, 0, 1, 1, 3, 3, 3, 3, 1, 0, 1, 2, 1, 0, 2, 3, 1, 3, 0,\n",
       "       2, 0, 2, 1, 3, 3, 3, 2, 2, 0, 3, 0, 2, 0, 2, 3, 1, 1, 1, 2, 3, 2,\n",
       "       3, 2, 3, 2, 0, 2, 0, 3, 3, 3, 0, 1, 0, 2, 1, 1, 0, 1, 1, 3, 2, 0,\n",
       "       2, 2, 0, 3, 1, 1, 1, 0, 0, 1, 1, 2, 1, 2, 1, 0, 0, 0, 2, 3, 3, 3,\n",
       "       3, 0, 0, 1, 2, 3, 2, 1, 2, 0, 0, 1, 1, 3, 0, 0, 0, 0, 0, 0, 1, 2,\n",
       "       0, 1, 2, 0, 2, 3, 2, 1, 2, 0, 3, 1, 0, 2, 2, 2, 0, 3, 1, 3, 1, 3,\n",
       "       2, 0, 1, 2, 1, 2, 0, 1, 2, 0, 2, 0, 2, 3, 2, 1, 1, 0, 1, 1, 0, 1,\n",
       "       2, 1, 1, 0, 0, 1, 3, 1, 3, 3, 0, 2, 3, 0, 2, 2, 0, 3, 0, 3, 0, 2,\n",
       "       2, 2, 1, 1, 3, 2, 1, 0, 3, 3, 3, 0, 1, 1, 0, 0, 1, 3, 0, 1, 0, 2,\n",
       "       2, 0, 3, 1, 1, 2], dtype=int64)"
      ]
     },
     "execution_count": 57,
     "metadata": {},
     "output_type": "execute_result"
    }
   ],
   "source": [
    "from sklearn.tree import DecisionTreeClassifier\n",
    "clf = DecisionTreeClassifier(criterion=\"entropy\", max_depth=10)\n",
    "\n",
    "# Train Decision Tree Classifer\n",
    "clf = clf.fit(X_train,y_train)\n",
    "\n",
    "#Predict the response for test dataset\n",
    "y_pred_decision = clf.predict(X_test)\n",
    "y_pred_decision"
   ]
  },
  {
   "cell_type": "code",
   "execution_count": 58,
   "id": "7d968fad",
   "metadata": {},
   "outputs": [
    {
     "name": "stdout",
     "output_type": "stream",
     "text": [
      "The Accuracy Of The Model Is: 0.8483333333333334\n"
     ]
    }
   ],
   "source": [
    "from sklearn import metrics\n",
    "print(\"The Accuracy Of The Model Is:\",metrics.accuracy_score(y_test, y_pred_decision))"
   ]
  },
  {
   "cell_type": "markdown",
   "id": "be6ce9b3",
   "metadata": {},
   "source": [
    "## Classification Using SVM Classifier"
   ]
  },
  {
   "cell_type": "code",
   "execution_count": 59,
   "id": "fa66b022",
   "metadata": {},
   "outputs": [
    {
     "data": {
      "text/plain": [
       "array([0, 2, 1, 3, 1, 1, 2, 0, 3, 1, 0, 1, 2, 3, 3, 2, 3, 3, 1, 0, 0, 2,\n",
       "       1, 2, 0, 1, 3, 2, 2, 0, 0, 0, 3, 0, 1, 1, 2, 0, 3, 0, 1, 3, 2, 0,\n",
       "       2, 3, 2, 1, 3, 1, 3, 1, 0, 0, 1, 1, 1, 3, 0, 0, 1, 3, 3, 1, 0, 0,\n",
       "       3, 3, 1, 2, 2, 2, 0, 1, 2, 0, 1, 3, 2, 2, 3, 2, 1, 0, 1, 3, 1, 3,\n",
       "       3, 0, 3, 3, 2, 1, 3, 2, 2, 3, 1, 1, 0, 0, 1, 0, 1, 3, 2, 0, 1, 1,\n",
       "       0, 0, 3, 1, 3, 2, 3, 2, 0, 2, 1, 3, 2, 1, 3, 3, 0, 2, 0, 2, 3, 0,\n",
       "       2, 2, 0, 3, 1, 0, 0, 2, 2, 1, 3, 2, 0, 0, 0, 1, 1, 2, 3, 1, 1, 0,\n",
       "       2, 2, 0, 1, 0, 1, 2, 3, 3, 3, 1, 0, 0, 2, 2, 3, 3, 0, 1, 0, 3, 1,\n",
       "       1, 2, 1, 0, 0, 0, 0, 0, 3, 2, 0, 3, 0, 0, 0, 0, 1, 3, 3, 1, 0, 1,\n",
       "       1, 1, 1, 2, 2, 3, 3, 3, 1, 2, 0, 0, 0, 2, 1, 1, 3, 1, 1, 2, 1, 1,\n",
       "       3, 2, 3, 0, 0, 2, 1, 3, 0, 1, 2, 0, 2, 3, 2, 0, 1, 3, 3, 0, 1, 3,\n",
       "       3, 3, 0, 3, 1, 2, 3, 3, 2, 1, 0, 3, 3, 1, 3, 3, 3, 3, 3, 0, 1, 2,\n",
       "       2, 2, 3, 0, 2, 3, 2, 2, 2, 1, 0, 1, 0, 3, 3, 1, 3, 1, 1, 3, 1, 2,\n",
       "       0, 0, 3, 0, 1, 2, 3, 3, 3, 1, 1, 0, 1, 3, 3, 0, 1, 2, 2, 0, 3, 3,\n",
       "       2, 3, 2, 3, 2, 0, 2, 1, 1, 1, 0, 0, 0, 3, 3, 3, 1, 0, 1, 0, 1, 2,\n",
       "       3, 0, 3, 3, 2, 1, 3, 0, 0, 3, 1, 3, 2, 0, 1, 1, 1, 1, 1, 3, 1, 0,\n",
       "       0, 3, 3, 0, 3, 0, 0, 2, 0, 1, 2, 2, 2, 3, 0, 3, 2, 3, 3, 3, 3, 2,\n",
       "       1, 1, 0, 3, 1, 3, 3, 0, 2, 3, 2, 3, 3, 3, 1, 0, 2, 3, 0, 0, 2, 3,\n",
       "       2, 1, 1, 2, 1, 3, 1, 3, 1, 2, 0, 0, 1, 0, 1, 0, 1, 0, 2, 2, 3, 2,\n",
       "       1, 1, 2, 1, 1, 3, 1, 0, 0, 3, 0, 1, 0, 0, 2, 2, 3, 0, 2, 0, 1, 1,\n",
       "       3, 3, 0, 2, 0, 2, 0, 0, 3, 3, 0, 2, 2, 2, 3, 1, 1, 0, 1, 3, 1, 0,\n",
       "       3, 1, 0, 0, 3, 2, 3, 2, 0, 2, 1, 0, 1, 2, 3, 2, 1, 1, 0, 1, 2, 2,\n",
       "       1, 0, 1, 3, 1, 2, 0, 3, 2, 3, 0, 0, 1, 2, 3, 1], dtype=int64)"
      ]
     },
     "execution_count": 59,
     "metadata": {},
     "output_type": "execute_result"
    }
   ],
   "source": [
    "from sklearn.model_selection import train_test_split\n",
    "x_train, x_test, y_train, y_test= train_test_split(X, y, test_size= 0.25, random_state=42)\n",
    "\n",
    "#feature Scaling\n",
    "from sklearn.preprocessing import StandardScaler\n",
    "st_x= StandardScaler()\n",
    "x_train= st_x.fit_transform(x_train)\n",
    "x_test= st_x.transform(x_test)\n",
    "\n",
    "from sklearn.svm import SVC # \"Support vector classifier\"\n",
    "classifier = SVC(kernel='linear', random_state=0)\n",
    "classifier.fit(x_train, y_train)\n",
    "y_pred_svm= classifier.predict(x_test)\n",
    "y_pred_svm"
   ]
  },
  {
   "cell_type": "code",
   "execution_count": 60,
   "id": "69c14731",
   "metadata": {},
   "outputs": [
    {
     "name": "stdout",
     "output_type": "stream",
     "text": [
      "The Testing Accuracy Of The Model Is: 0.954\n"
     ]
    }
   ],
   "source": [
    "from sklearn.metrics import accuracy_score\n",
    "print(\"The Testing Accuracy Of The Model Is:\",accuracy_score(y_test,y_pred_svm))"
   ]
  },
  {
   "cell_type": "markdown",
   "id": "5b55f5a9",
   "metadata": {},
   "source": [
    "## Classification Using The XGBoost Classifier"
   ]
  },
  {
   "cell_type": "code",
   "execution_count": 61,
   "id": "a511cc7a",
   "metadata": {
    "scrolled": false
   },
   "outputs": [
    {
     "data": {
      "text/plain": [
       "array([0, 0, 0, 1, 2, 2, 2, 1, 1, 0, 3, 3, 1, 3, 0, 3, 3, 0, 1, 1, 2, 2,\n",
       "       2, 0, 0, 1, 1, 3, 3, 2, 2, 2, 0, 1, 2, 1, 1, 2, 2, 2, 1, 2, 3, 3,\n",
       "       3, 1, 1, 3, 0, 1, 1, 3, 0, 3, 3, 1, 3, 3, 0, 3, 3, 3, 2, 3, 2, 2,\n",
       "       2, 3, 0, 0, 0, 1, 3, 0, 1, 0, 1, 0, 2, 0, 2, 0, 0, 3, 0, 3, 0, 0,\n",
       "       3, 0, 1, 3, 3, 1, 2, 3, 3, 2, 3, 2, 0, 2, 1, 0, 0, 3, 0, 0, 1, 3,\n",
       "       1, 1, 0, 1, 1, 1, 0, 3, 0, 3, 1, 0, 3, 0, 1, 0, 2, 0, 2, 2, 2, 1,\n",
       "       1, 2, 1, 0, 3, 3, 0, 2, 3, 2, 2, 2, 2, 2, 1, 0, 3, 2, 0, 3, 0, 3,\n",
       "       3, 3, 0, 0, 2, 2, 0, 3, 2, 0, 0, 3, 2, 1, 3, 2, 3, 0, 0, 1, 3, 2,\n",
       "       2, 1, 0, 1, 3, 1, 2, 1, 1, 0, 3, 0, 3, 2, 0, 3, 2, 1, 0, 3, 0, 3,\n",
       "       3, 2, 3, 1, 0, 3, 3, 0, 2, 1, 1, 1, 3, 0, 3, 1, 0, 2, 0, 2, 2, 0,\n",
       "       1, 3, 2, 3, 1, 2, 0, 0, 3, 2, 0, 3, 1, 0, 3, 1, 3, 2, 3, 2, 3, 1,\n",
       "       2, 2, 2, 2, 0, 2, 3, 3, 2, 3, 1, 3, 2, 1, 0, 0, 0, 3, 2, 0, 2, 0,\n",
       "       2, 1, 0, 3, 0, 0, 2, 1, 0, 2, 3, 0, 3, 2, 3, 1, 2, 0, 3, 2, 1, 2,\n",
       "       1, 2, 0, 0, 2, 1, 3, 0, 0, 0, 1, 0, 1, 0, 0, 3, 3, 3, 0, 1, 2, 3,\n",
       "       1, 3, 2, 1, 0, 1, 0, 3, 2, 1, 0, 3, 2, 3, 3, 1, 1, 2, 1, 3, 2, 1,\n",
       "       3, 1, 2, 2, 0, 0, 0, 0, 1, 1, 3, 1, 2, 1, 0, 1, 2, 2, 3, 1, 2, 2,\n",
       "       2, 2, 1, 0, 1, 3, 3, 2, 3, 0, 1, 1, 3, 0, 3, 1, 2, 0, 0, 3, 3, 0,\n",
       "       2, 0, 2, 2, 1, 3, 0, 1, 1, 2, 2, 1, 0, 2, 2, 1, 2, 3, 2, 1, 3, 2,\n",
       "       2, 2, 3, 2, 0, 1, 1, 3, 3, 3, 3, 2, 0, 1, 1, 1, 0, 1, 3, 1, 3, 0,\n",
       "       2, 0, 1, 1, 3, 3, 3, 2, 2, 0, 3, 0, 2, 0, 2, 3, 1, 1, 1, 2, 3, 2,\n",
       "       3, 2, 3, 2, 0, 1, 0, 3, 3, 3, 1, 1, 0, 2, 1, 1, 0, 1, 1, 3, 2, 0,\n",
       "       2, 2, 0, 2, 1, 1, 0, 0, 0, 2, 2, 2, 2, 2, 1, 0, 0, 0, 3, 3, 3, 3,\n",
       "       3, 0, 0, 1, 2, 3, 2, 1, 1, 0, 1, 0, 1, 3, 0, 0, 0, 0, 0, 0, 1, 2,\n",
       "       0, 1, 2, 0, 2, 3, 2, 1, 2, 0, 3, 1, 0, 2, 1, 2, 1, 3, 1, 3, 1, 3,\n",
       "       2, 0, 2, 1, 1, 1, 1, 1, 2, 0, 2, 0, 2, 3, 2, 1, 1, 0, 1, 1, 0, 1,\n",
       "       2, 1, 2, 0, 0, 1, 3, 1, 3, 3, 0, 2, 3, 0, 2, 3, 0, 3, 0, 3, 0, 1,\n",
       "       2, 2, 1, 1, 3, 2, 1, 0, 3, 3, 3, 0, 1, 1, 0, 0, 1, 3, 0, 0, 0, 3,\n",
       "       2, 0, 3, 1, 1, 2], dtype=int64)"
      ]
     },
     "execution_count": 61,
     "metadata": {},
     "output_type": "execute_result"
    }
   ],
   "source": [
    "from sklearn.model_selection import train_test_split\n",
    "column_names=[column_name for column_name in MobileDataset.columns if column_name!=\"price_range\"]\n",
    "X=MobileDataset[column_names]\n",
    "y=MobileDataset[\"price_range\"]\n",
    "X_train,X_test,y_train,y_test=train_test_split(X,y,random_state=71,test_size=0.30)\n",
    "\n",
    "from xgboost import XGBClassifier\n",
    "xg_boost=XGBClassifier()\n",
    "xg_boost.fit(X_train,y_train)\n",
    "y_pred_xg_boost=xg_boost.predict(X_test)\n",
    "y_pred_xg_boost"
   ]
  },
  {
   "cell_type": "code",
   "execution_count": 62,
   "id": "082afc3a",
   "metadata": {},
   "outputs": [
    {
     "name": "stdout",
     "output_type": "stream",
     "text": [
      "Testing Accuracy Of Model is : 0.9216666666666666\n"
     ]
    }
   ],
   "source": [
    "print(\"Testing Accuracy Of Model is :\",accuracy_score(y_test,y_pred_xg_boost))"
   ]
  },
  {
   "cell_type": "markdown",
   "id": "5827229f",
   "metadata": {},
   "source": [
    "## Classification Using The Random Forest Classfier"
   ]
  },
  {
   "cell_type": "code",
   "execution_count": 63,
   "id": "184b2887",
   "metadata": {},
   "outputs": [
    {
     "data": {
      "text/plain": [
       "array([0, 0, 0, 1, 2, 2, 2, 0, 1, 0, 3, 3, 1, 3, 0, 3, 3, 0, 1, 1, 2, 2,\n",
       "       2, 0, 0, 1, 1, 3, 3, 2, 2, 2, 0, 1, 2, 1, 1, 2, 2, 2, 1, 2, 3, 3,\n",
       "       3, 1, 1, 3, 1, 1, 1, 3, 0, 3, 3, 1, 3, 3, 0, 3, 3, 3, 2, 3, 1, 2,\n",
       "       2, 3, 0, 0, 0, 1, 2, 0, 2, 0, 1, 0, 2, 0, 2, 0, 0, 3, 0, 3, 0, 0,\n",
       "       3, 0, 1, 3, 3, 1, 2, 3, 3, 2, 3, 2, 0, 2, 1, 0, 0, 3, 0, 0, 1, 3,\n",
       "       1, 1, 0, 1, 1, 1, 0, 3, 0, 3, 1, 0, 3, 0, 1, 0, 2, 0, 2, 2, 2, 2,\n",
       "       1, 2, 1, 0, 3, 3, 0, 2, 3, 2, 1, 2, 2, 2, 1, 0, 3, 2, 0, 3, 0, 3,\n",
       "       3, 3, 0, 0, 2, 2, 0, 3, 2, 0, 0, 3, 2, 1, 3, 2, 3, 0, 0, 1, 3, 2,\n",
       "       2, 1, 0, 2, 3, 1, 2, 1, 2, 0, 3, 0, 3, 2, 0, 3, 3, 0, 0, 3, 0, 3,\n",
       "       3, 2, 3, 1, 0, 3, 3, 0, 1, 1, 1, 2, 3, 0, 3, 1, 0, 2, 1, 2, 2, 0,\n",
       "       1, 3, 2, 3, 0, 2, 0, 0, 3, 2, 0, 3, 1, 0, 3, 1, 3, 2, 3, 3, 3, 1,\n",
       "       2, 2, 2, 2, 0, 2, 3, 3, 3, 3, 1, 3, 3, 1, 0, 0, 0, 3, 2, 0, 2, 0,\n",
       "       3, 1, 0, 3, 0, 0, 2, 0, 0, 2, 3, 0, 3, 2, 3, 1, 1, 0, 3, 2, 1, 2,\n",
       "       1, 2, 0, 0, 2, 1, 3, 0, 0, 0, 2, 0, 1, 0, 0, 3, 3, 3, 0, 1, 2, 3,\n",
       "       1, 3, 2, 1, 0, 1, 0, 3, 2, 0, 0, 3, 2, 3, 3, 1, 1, 2, 1, 3, 2, 1,\n",
       "       3, 1, 2, 2, 0, 0, 0, 0, 1, 1, 3, 1, 2, 1, 0, 1, 2, 2, 3, 1, 2, 2,\n",
       "       1, 2, 1, 0, 1, 3, 3, 2, 3, 0, 1, 1, 3, 0, 3, 1, 2, 0, 0, 3, 3, 0,\n",
       "       2, 0, 2, 1, 1, 3, 0, 1, 1, 2, 2, 1, 0, 3, 2, 1, 2, 2, 1, 1, 2, 2,\n",
       "       2, 2, 3, 2, 0, 1, 1, 3, 3, 3, 3, 2, 0, 1, 1, 1, 0, 1, 3, 1, 3, 0,\n",
       "       2, 0, 1, 1, 3, 3, 3, 2, 3, 0, 3, 0, 3, 0, 2, 3, 1, 1, 1, 2, 3, 2,\n",
       "       3, 2, 3, 2, 1, 1, 0, 3, 3, 3, 1, 1, 0, 2, 1, 1, 0, 1, 0, 3, 2, 0,\n",
       "       2, 2, 0, 2, 0, 1, 0, 0, 0, 2, 2, 2, 2, 2, 1, 0, 0, 0, 3, 3, 3, 3,\n",
       "       3, 0, 0, 1, 3, 3, 2, 1, 1, 0, 1, 0, 1, 3, 0, 1, 0, 0, 0, 0, 1, 1,\n",
       "       0, 1, 2, 0, 2, 3, 2, 1, 2, 0, 3, 1, 0, 2, 1, 2, 0, 3, 0, 3, 1, 3,\n",
       "       2, 0, 1, 1, 1, 1, 1, 1, 2, 0, 2, 0, 2, 3, 2, 1, 1, 0, 2, 1, 0, 1,\n",
       "       2, 1, 2, 0, 0, 1, 3, 1, 3, 3, 1, 3, 3, 0, 2, 3, 0, 3, 0, 3, 0, 1,\n",
       "       2, 2, 1, 1, 3, 2, 2, 0, 3, 3, 3, 0, 1, 1, 0, 0, 1, 3, 0, 0, 0, 3,\n",
       "       2, 0, 3, 1, 1, 2], dtype=int64)"
      ]
     },
     "execution_count": 63,
     "metadata": {},
     "output_type": "execute_result"
    }
   ],
   "source": [
    "from sklearn.ensemble import RandomForestClassifier\n",
    "X_train,X_test,y_train,y_test=train_test_split(X,y,random_state=71,test_size=0.30)\n",
    "\n",
    "clf = RandomForestClassifier(n_estimators = 400)\n",
    "\n",
    "clf.fit(X_train, y_train)\n",
    "\n",
    "y_pred_random = clf.predict(X_test)\n",
    "y_pred_random"
   ]
  },
  {
   "cell_type": "code",
   "execution_count": 64,
   "id": "70de034a",
   "metadata": {},
   "outputs": [
    {
     "name": "stdout",
     "output_type": "stream",
     "text": [
      "Testing Accuracy Of Model Is:  0.9016666666666666\n"
     ]
    }
   ],
   "source": [
    "from sklearn import metrics\n",
    "print(\"Testing Accuracy Of Model Is: \", metrics.accuracy_score(y_test, y_pred_random))"
   ]
  },
  {
   "cell_type": "markdown",
   "id": "f4548c8c",
   "metadata": {},
   "source": [
    "## Classification Using The Naive Bayes Classifier"
   ]
  },
  {
   "cell_type": "code",
   "execution_count": 65,
   "id": "d5127ea6",
   "metadata": {},
   "outputs": [
    {
     "data": {
      "text/plain": [
       "array([0, 0, 0, 1, 2, 2, 2, 0, 1, 0, 3, 3, 2, 3, 1, 3, 3, 0, 2, 1, 3, 1,\n",
       "       2, 0, 0, 1, 1, 3, 3, 1, 2, 3, 0, 1, 2, 1, 1, 2, 2, 1, 1, 2, 3, 3,\n",
       "       3, 0, 1, 3, 1, 1, 0, 3, 1, 3, 3, 1, 3, 3, 0, 3, 3, 3, 2, 3, 1, 1,\n",
       "       3, 3, 1, 1, 0, 1, 2, 0, 2, 0, 1, 0, 1, 0, 2, 0, 0, 3, 0, 3, 0, 0,\n",
       "       3, 0, 1, 3, 3, 1, 2, 2, 3, 2, 3, 2, 0, 2, 2, 0, 0, 3, 0, 0, 1, 3,\n",
       "       1, 1, 1, 1, 1, 1, 1, 3, 0, 3, 1, 0, 3, 0, 1, 0, 2, 0, 2, 2, 1, 1,\n",
       "       1, 1, 1, 1, 3, 3, 0, 2, 3, 1, 2, 2, 1, 2, 1, 0, 3, 2, 0, 3, 1, 3,\n",
       "       3, 3, 0, 0, 2, 2, 0, 3, 2, 0, 0, 3, 2, 1, 3, 2, 3, 0, 0, 1, 3, 2,\n",
       "       1, 1, 0, 2, 3, 1, 1, 1, 2, 1, 3, 0, 3, 2, 0, 3, 3, 0, 0, 3, 0, 3,\n",
       "       3, 2, 2, 1, 0, 3, 3, 0, 1, 1, 1, 2, 3, 0, 3, 1, 0, 2, 1, 2, 2, 0,\n",
       "       1, 3, 2, 3, 0, 2, 0, 1, 3, 2, 0, 2, 0, 1, 3, 1, 3, 2, 3, 2, 3, 1,\n",
       "       2, 2, 2, 2, 0, 1, 2, 3, 2, 3, 1, 3, 2, 1, 0, 0, 0, 3, 2, 0, 2, 1,\n",
       "       2, 1, 1, 3, 0, 0, 2, 0, 0, 2, 3, 0, 3, 1, 3, 2, 1, 0, 3, 2, 1, 3,\n",
       "       1, 2, 0, 0, 2, 1, 3, 0, 0, 0, 2, 0, 1, 0, 1, 3, 3, 3, 0, 0, 1, 3,\n",
       "       0, 3, 3, 1, 0, 1, 0, 3, 3, 0, 0, 3, 2, 3, 3, 1, 1, 2, 1, 3, 3, 1,\n",
       "       3, 1, 2, 2, 0, 0, 0, 1, 1, 1, 3, 1, 2, 1, 0, 1, 2, 1, 3, 1, 1, 2,\n",
       "       1, 3, 1, 0, 1, 3, 3, 2, 3, 0, 1, 1, 3, 0, 3, 1, 2, 0, 0, 3, 3, 0,\n",
       "       2, 0, 2, 1, 1, 3, 0, 2, 1, 2, 2, 1, 0, 3, 2, 1, 2, 2, 1, 1, 2, 2,\n",
       "       2, 2, 3, 2, 0, 1, 2, 3, 3, 2, 3, 2, 0, 1, 1, 1, 0, 1, 3, 1, 3, 0,\n",
       "       2, 0, 2, 1, 3, 3, 3, 2, 2, 0, 3, 0, 3, 0, 2, 3, 1, 1, 1, 2, 3, 2,\n",
       "       3, 2, 3, 2, 1, 1, 0, 3, 3, 3, 0, 1, 0, 2, 1, 1, 0, 1, 0, 3, 2, 0,\n",
       "       2, 2, 0, 3, 0, 1, 0, 0, 0, 2, 1, 1, 2, 2, 2, 0, 0, 0, 3, 3, 3, 3,\n",
       "       3, 0, 0, 1, 3, 3, 2, 1, 1, 0, 1, 0, 1, 3, 0, 0, 0, 0, 0, 0, 1, 1,\n",
       "       0, 1, 2, 1, 2, 3, 2, 1, 2, 0, 3, 1, 0, 1, 2, 2, 0, 3, 0, 3, 1, 3,\n",
       "       3, 0, 1, 1, 1, 1, 1, 1, 2, 0, 2, 0, 2, 3, 2, 2, 1, 0, 2, 1, 0, 1,\n",
       "       2, 1, 2, 0, 0, 1, 2, 2, 3, 3, 1, 2, 3, 0, 2, 3, 1, 3, 0, 3, 0, 1,\n",
       "       2, 2, 2, 1, 3, 2, 2, 0, 3, 3, 3, 0, 1, 1, 0, 0, 1, 3, 0, 0, 0, 2,\n",
       "       2, 0, 3, 1, 1, 2], dtype=int64)"
      ]
     },
     "execution_count": 65,
     "metadata": {},
     "output_type": "execute_result"
    }
   ],
   "source": [
    "from sklearn.naive_bayes import GaussianNB\n",
    "\n",
    "naive_bayes_classifier=GaussianNB()\n",
    "naive_bayes_classifier.fit(X_train,y_train)\n",
    "\n",
    "y_pred_naive_bayes=naive_bayes_classifier.predict(X_test)\n",
    "y_pred_naive_bayes"
   ]
  },
  {
   "cell_type": "code",
   "execution_count": 66,
   "id": "93477028",
   "metadata": {},
   "outputs": [
    {
     "name": "stdout",
     "output_type": "stream",
     "text": [
      "The Testing Accuracy is : 0.7983333333333333\n"
     ]
    }
   ],
   "source": [
    "print(\"The Testing Accuracy is :\",accuracy_score(y_test,y_pred_naive_bayes))"
   ]
  },
  {
   "cell_type": "markdown",
   "id": "b53ac8ad",
   "metadata": {},
   "source": [
    "## Classification Using The K Nearest Neighbours Classifier"
   ]
  },
  {
   "cell_type": "code",
   "execution_count": 67,
   "id": "cd437c8a",
   "metadata": {},
   "outputs": [
    {
     "data": {
      "text/plain": [
       "array([0, 0, 0, 1, 2, 2, 2, 1, 1, 0, 3, 3, 1, 3, 0, 3, 3, 0, 1, 1, 2, 2,\n",
       "       2, 0, 0, 2, 1, 3, 3, 2, 2, 2, 0, 1, 2, 1, 1, 2, 2, 2, 1, 2, 3, 3,\n",
       "       3, 0, 1, 3, 0, 1, 1, 3, 0, 3, 3, 1, 3, 3, 0, 3, 3, 3, 2, 3, 2, 2,\n",
       "       2, 3, 0, 0, 1, 1, 3, 0, 1, 0, 1, 0, 2, 0, 2, 0, 0, 3, 0, 2, 0, 0,\n",
       "       3, 0, 1, 3, 3, 1, 2, 3, 3, 2, 3, 2, 0, 2, 1, 0, 0, 3, 0, 0, 1, 3,\n",
       "       1, 1, 0, 1, 0, 1, 0, 3, 0, 3, 1, 0, 2, 0, 1, 0, 2, 0, 2, 2, 2, 2,\n",
       "       1, 2, 2, 1, 3, 3, 0, 2, 3, 2, 1, 2, 2, 2, 1, 0, 3, 2, 0, 3, 0, 3,\n",
       "       2, 3, 0, 0, 2, 2, 0, 3, 2, 0, 0, 3, 2, 1, 3, 2, 3, 0, 0, 1, 3, 2,\n",
       "       2, 1, 0, 1, 3, 1, 2, 1, 1, 1, 3, 0, 3, 2, 0, 3, 2, 1, 0, 3, 0, 3,\n",
       "       3, 2, 3, 0, 0, 3, 3, 0, 2, 2, 1, 1, 3, 0, 3, 1, 0, 2, 0, 1, 2, 0,\n",
       "       1, 3, 2, 3, 1, 2, 0, 0, 3, 2, 0, 3, 1, 0, 3, 1, 3, 2, 3, 3, 3, 1,\n",
       "       2, 1, 2, 2, 0, 2, 3, 3, 3, 3, 1, 2, 2, 1, 0, 0, 0, 3, 2, 0, 2, 0,\n",
       "       3, 1, 0, 3, 0, 0, 2, 1, 0, 2, 3, 0, 3, 1, 2, 1, 2, 0, 2, 2, 1, 2,\n",
       "       1, 2, 0, 0, 2, 1, 3, 0, 0, 0, 2, 0, 1, 0, 0, 3, 3, 3, 0, 1, 2, 2,\n",
       "       1, 3, 3, 1, 0, 1, 0, 3, 2, 0, 0, 3, 2, 3, 3, 1, 1, 2, 1, 3, 2, 1,\n",
       "       3, 0, 2, 2, 0, 0, 0, 0, 1, 1, 3, 1, 2, 1, 0, 0, 2, 2, 3, 1, 2, 2,\n",
       "       2, 2, 2, 0, 1, 3, 3, 2, 3, 0, 1, 1, 3, 0, 3, 1, 2, 0, 0, 3, 3, 0,\n",
       "       2, 0, 2, 2, 1, 3, 0, 1, 1, 2, 2, 1, 0, 2, 2, 1, 2, 3, 2, 1, 3, 2,\n",
       "       2, 2, 3, 2, 0, 1, 1, 3, 3, 3, 3, 2, 0, 1, 1, 1, 0, 1, 3, 1, 3, 0,\n",
       "       2, 0, 1, 1, 3, 3, 3, 2, 2, 0, 3, 0, 3, 0, 2, 3, 1, 1, 1, 2, 3, 2,\n",
       "       3, 3, 3, 2, 0, 1, 0, 3, 3, 3, 1, 1, 0, 3, 1, 1, 0, 1, 1, 3, 2, 0,\n",
       "       2, 2, 0, 2, 1, 1, 0, 0, 1, 1, 2, 2, 2, 3, 1, 0, 0, 0, 2, 3, 3, 3,\n",
       "       3, 0, 0, 1, 2, 3, 2, 1, 2, 0, 1, 0, 1, 3, 0, 0, 0, 0, 0, 0, 1, 2,\n",
       "       0, 1, 2, 0, 2, 2, 2, 1, 2, 0, 3, 1, 0, 2, 1, 2, 1, 3, 1, 3, 1, 3,\n",
       "       2, 0, 1, 1, 1, 1, 1, 1, 2, 0, 2, 0, 2, 3, 2, 1, 1, 0, 1, 1, 0, 1,\n",
       "       2, 1, 2, 0, 0, 1, 3, 1, 3, 3, 1, 2, 3, 0, 2, 3, 0, 3, 0, 3, 0, 1,\n",
       "       2, 2, 1, 1, 3, 2, 2, 0, 3, 3, 3, 0, 1, 1, 0, 0, 1, 3, 0, 0, 0, 3,\n",
       "       2, 0, 3, 1, 1, 2], dtype=int64)"
      ]
     },
     "execution_count": 67,
     "metadata": {},
     "output_type": "execute_result"
    }
   ],
   "source": [
    "from sklearn.neighbors import KNeighborsClassifier\n",
    "\n",
    "knn_model=KNeighborsClassifier()\n",
    "knn_model.fit(X_train,y_train)\n",
    "\n",
    "y_pred_knn=knn_model.predict(X_test)\n",
    "y_pred_knn"
   ]
  },
  {
   "cell_type": "code",
   "execution_count": 68,
   "id": "1a526a3b",
   "metadata": {},
   "outputs": [
    {
     "name": "stdout",
     "output_type": "stream",
     "text": [
      "The Testing Accuracy is:  0.9183333333333333\n"
     ]
    }
   ],
   "source": [
    "print(\"The Testing Accuracy is: \",accuracy_score(y_test,y_pred_knn))"
   ]
  },
  {
   "cell_type": "markdown",
   "id": "617b9a66",
   "metadata": {},
   "source": [
    "## The Accuracies Obtained From The Models Trained Are As Follows:"
   ]
  },
  {
   "cell_type": "markdown",
   "id": "80e188b8",
   "metadata": {},
   "source": [
    "### SVM Classifier : 95.4%"
   ]
  },
  {
   "cell_type": "markdown",
   "id": "d22e8ecb",
   "metadata": {},
   "source": [
    "### XGBoost Algorithm : 92.2%"
   ]
  },
  {
   "cell_type": "markdown",
   "id": "030eb663",
   "metadata": {},
   "source": [
    "### KNN Classifier: 92%"
   ]
  },
  {
   "cell_type": "markdown",
   "id": "91568b7e",
   "metadata": {},
   "source": [
    "### Random Forest Classifier : 91%"
   ]
  },
  {
   "cell_type": "markdown",
   "id": "674621fb",
   "metadata": {},
   "source": [
    "### Decision Tree Classifier : 84%"
   ]
  },
  {
   "cell_type": "markdown",
   "id": "c422e8c5",
   "metadata": {},
   "source": [
    "### Naive Bayes Classifier : 80%"
   ]
  },
  {
   "cell_type": "markdown",
   "id": "4695e231",
   "metadata": {},
   "source": [
    "### Logistic Regression : 63%"
   ]
  },
  {
   "cell_type": "markdown",
   "id": "6e1fe6f4",
   "metadata": {},
   "source": [
    "# "
   ]
  },
  {
   "cell_type": "markdown",
   "id": "883eba02",
   "metadata": {},
   "source": [
    "## The Best Model That Have Been Fitted Are SVM Classifier, XGBoost Algorithm, KNN Classifier And Random Forest Classifier"
   ]
  },
  {
   "cell_type": "markdown",
   "id": "8b79f1c5",
   "metadata": {},
   "source": [
    "## Checking Whelther There Is Any Overfitting Or Underfitting In The Models"
   ]
  },
  {
   "cell_type": "markdown",
   "id": "faf7cb70",
   "metadata": {},
   "source": [
    "## Cross Validation On SVM Classifier"
   ]
  },
  {
   "cell_type": "code",
   "execution_count": 69,
   "id": "70a192d6",
   "metadata": {},
   "outputs": [
    {
     "data": {
      "text/plain": [
       "array([0.99, 0.96, 0.98, 0.98, 0.97, 0.97, 0.99, 0.95, 0.98, 0.99, 0.95,\n",
       "       0.97, 0.97, 0.99, 1.  , 0.97, 0.97, 0.97, 0.98, 0.97])"
      ]
     },
     "execution_count": 69,
     "metadata": {},
     "output_type": "execute_result"
    }
   ],
   "source": [
    "from sklearn.model_selection import cross_val_score\n",
    "final_cross_val_accuracy_svm=cross_val_score(classifier,X,y,cv=20)\n",
    "final_cross_val_accuracy_svm"
   ]
  },
  {
   "cell_type": "code",
   "execution_count": 70,
   "id": "b24a6205",
   "metadata": {},
   "outputs": [
    {
     "name": "stdout",
     "output_type": "stream",
     "text": [
      "The Final Cross Validated Accuracy is: 0.9749999999999999\n"
     ]
    }
   ],
   "source": [
    "print(\"The Final Cross Validated Accuracy is:\",final_cross_val_accuracy_svm.mean())"
   ]
  },
  {
   "cell_type": "markdown",
   "id": "d8e3badc",
   "metadata": {},
   "source": [
    "## Cross Validation On XGBoost Algorithm"
   ]
  },
  {
   "cell_type": "code",
   "execution_count": 71,
   "id": "a15994b2",
   "metadata": {},
   "outputs": [
    {
     "data": {
      "text/plain": [
       "array([0.89, 0.91, 0.94, 0.9 , 0.93, 0.91, 0.94, 0.92, 0.94, 0.94, 0.91,\n",
       "       0.94, 0.89, 0.91, 0.95, 0.87, 0.88, 0.91, 0.86, 0.91])"
      ]
     },
     "execution_count": 71,
     "metadata": {},
     "output_type": "execute_result"
    }
   ],
   "source": [
    "from sklearn.model_selection import cross_val_score\n",
    "final_cross_val_accuracy_xg_boost=cross_val_score(xg_boost,X,y,cv=20)\n",
    "final_cross_val_accuracy_xg_boost"
   ]
  },
  {
   "cell_type": "code",
   "execution_count": 72,
   "id": "fbf10153",
   "metadata": {},
   "outputs": [
    {
     "name": "stdout",
     "output_type": "stream",
     "text": [
      "The Final Cross Validated Accuracy is: 0.9125\n"
     ]
    }
   ],
   "source": [
    "print(\"The Final Cross Validated Accuracy is:\",final_cross_val_accuracy_xg_boost.mean())"
   ]
  },
  {
   "cell_type": "markdown",
   "id": "cde2a941",
   "metadata": {},
   "source": [
    "## Cross Validation On KNN Classifier"
   ]
  },
  {
   "cell_type": "code",
   "execution_count": 73,
   "id": "2097cfbc",
   "metadata": {},
   "outputs": [
    {
     "data": {
      "text/plain": [
       "array([0.92, 0.89, 0.96, 0.92, 0.9 , 0.92, 0.94, 0.94, 0.93, 0.94, 0.92,\n",
       "       0.97, 0.92, 0.91, 0.93, 0.9 , 0.9 , 0.94, 0.92, 0.94])"
      ]
     },
     "execution_count": 73,
     "metadata": {},
     "output_type": "execute_result"
    }
   ],
   "source": [
    "from sklearn.model_selection import cross_val_score\n",
    "final_cross_val_accuracy_knn=cross_val_score(knn_model,X,y,cv=20)\n",
    "final_cross_val_accuracy_knn"
   ]
  },
  {
   "cell_type": "code",
   "execution_count": 74,
   "id": "4d01eaf6",
   "metadata": {},
   "outputs": [
    {
     "name": "stdout",
     "output_type": "stream",
     "text": [
      "The Final Cross Validated Accuracy is: 0.9255000000000002\n"
     ]
    }
   ],
   "source": [
    "print(\"The Final Cross Validated Accuracy is:\",final_cross_val_accuracy_knn.mean())"
   ]
  },
  {
   "cell_type": "markdown",
   "id": "896fb7a6",
   "metadata": {},
   "source": [
    "## Cross Validation On Random Forest Classifier"
   ]
  },
  {
   "cell_type": "code",
   "execution_count": 75,
   "id": "5b79fa8c",
   "metadata": {},
   "outputs": [
    {
     "data": {
      "text/plain": [
       "array([0.91, 0.88, 0.9 , 0.84, 0.92, 0.88, 0.86, 0.85, 0.91, 0.88, 0.92,\n",
       "       0.91, 0.87, 0.93, 0.91, 0.85, 0.84, 0.89, 0.9 , 0.89])"
      ]
     },
     "execution_count": 75,
     "metadata": {},
     "output_type": "execute_result"
    }
   ],
   "source": [
    "from sklearn.model_selection import cross_val_score\n",
    "final_cross_val_accuracy_random_forest=cross_val_score(clf,X,y,cv=20)\n",
    "final_cross_val_accuracy_random_forest"
   ]
  },
  {
   "cell_type": "code",
   "execution_count": 76,
   "id": "14325a60",
   "metadata": {},
   "outputs": [
    {
     "name": "stdout",
     "output_type": "stream",
     "text": [
      "The Final Cross Validated Accuracy is: 0.8870000000000001\n"
     ]
    }
   ],
   "source": [
    "print(\"The Final Cross Validated Accuracy is:\",final_cross_val_accuracy_random_forest.mean())"
   ]
  },
  {
   "cell_type": "markdown",
   "id": "8ee613f9",
   "metadata": {},
   "source": [
    "# "
   ]
  },
  {
   "cell_type": "markdown",
   "id": "7103bab1",
   "metadata": {},
   "source": [
    "## From The Above Cross Validations It Can be Seen That:"
   ]
  },
  {
   "cell_type": "markdown",
   "id": "e0805e0f",
   "metadata": {},
   "source": [
    "### Cross Validated Accuracy Of SVM: 97.5%"
   ]
  },
  {
   "cell_type": "markdown",
   "id": "e4769d23",
   "metadata": {},
   "source": [
    "### Cross Validated Accuracy Of XGBoost Algorithm: 91.2%"
   ]
  },
  {
   "cell_type": "markdown",
   "id": "e25144e8",
   "metadata": {},
   "source": [
    "### Cross Validated Accuracy Of KNN Classifier: 92.5%"
   ]
  },
  {
   "cell_type": "markdown",
   "id": "b6cab230",
   "metadata": {},
   "source": [
    "### Cross Validated Accuracy Of Random Forest Classifier: 89%"
   ]
  },
  {
   "cell_type": "markdown",
   "id": "722cc729",
   "metadata": {},
   "source": [
    "## From The Above We Can Say That The SVM Classifier Is The Most Accurate Alogorithm That Can Be Used To Predict The Outcomes Of The Unknown Test Data That Is Fed Into The Model"
   ]
  },
  {
   "cell_type": "code",
   "execution_count": 83,
   "id": "a6867093",
   "metadata": {},
   "outputs": [
    {
     "data": {
      "text/plain": [
       "array([3, 3, 2, 3, 1, 3, 3, 1, 3, 0, 3, 3, 0, 0, 2, 0, 2, 1, 3, 2, 1, 3,\n",
       "       1, 1, 3, 0, 2, 0, 3, 0, 2, 0, 3, 0, 1, 1, 3, 1, 2, 1, 1, 2, 0, 0,\n",
       "       0, 1, 0, 3, 1, 2, 1, 0, 3, 0, 3, 0, 3, 1, 1, 3, 3, 3, 0, 1, 0, 1,\n",
       "       2, 3, 1, 2, 1, 2, 2, 3, 3, 0, 2, 0, 1, 3, 0, 3, 3, 0, 3, 0, 3, 1,\n",
       "       3, 0, 1, 2, 2, 1, 2, 1, 0, 2, 1, 2, 1, 0, 0, 3, 0, 2, 0, 1, 2, 3,\n",
       "       3, 3, 1, 3, 3, 3, 3, 2, 3, 0, 0, 3, 2, 1, 2, 0, 3, 2, 2, 2, 0, 2,\n",
       "       1, 1, 3, 1, 1, 0, 3, 2, 1, 2, 1, 3, 2, 3, 3, 3, 2, 3, 2, 3, 1, 0,\n",
       "       3, 2, 3, 3, 3, 3, 3, 2, 3, 3, 3, 3, 1, 0, 3, 0, 0, 0, 2, 1, 0, 1,\n",
       "       0, 0, 1, 2, 1, 0, 0, 1, 1, 2, 2, 1, 0, 0, 0, 1, 0, 3, 1, 0, 2, 2,\n",
       "       2, 3, 1, 1, 2, 2, 3, 2, 2, 1, 0, 0, 1, 2, 1, 2, 2, 3, 0, 2, 0, 3,\n",
       "       2, 3, 3, 1, 0, 1, 0, 3, 0, 1, 0, 2, 2, 1, 3, 1, 2, 0, 3, 1, 2, 0,\n",
       "       0, 2, 1, 3, 3, 3, 1, 1, 3, 0, 0, 2, 3, 3, 1, 3, 1, 1, 3, 2, 1, 2,\n",
       "       3, 3, 3, 1, 0, 0, 2, 3, 1, 1, 3, 2, 0, 3, 0, 0, 3, 1, 0, 3, 2, 3,\n",
       "       3, 2, 1, 3, 3, 2, 3, 1, 2, 1, 2, 0, 2, 3, 1, 0, 0, 3, 0, 3, 0, 1,\n",
       "       2, 0, 2, 3, 1, 3, 2, 2, 1, 2, 0, 0, 0, 1, 3, 2, 0, 0, 0, 3, 2, 0,\n",
       "       2, 3, 1, 2, 2, 2, 3, 1, 3, 3, 2, 2, 2, 3, 3, 0, 3, 0, 3, 1, 3, 1,\n",
       "       2, 3, 0, 1, 0, 3, 1, 3, 2, 3, 0, 0, 0, 0, 2, 0, 0, 2, 2, 1, 2, 2,\n",
       "       2, 0, 1, 0, 0, 3, 2, 0, 3, 1, 2, 2, 1, 2, 3, 1, 1, 2, 2, 1, 2, 0,\n",
       "       1, 1, 0, 3, 2, 1, 0, 1, 0, 0, 1, 1, 0, 1, 0, 2, 2, 3, 2, 3, 0, 3,\n",
       "       0, 3, 0, 1, 1, 0, 2, 0, 3, 2, 3, 3, 1, 3, 1, 3, 1, 2, 2, 0, 1, 2,\n",
       "       1, 1, 0, 0, 0, 1, 2, 1, 0, 3, 2, 0, 2, 2, 0, 0, 3, 1, 2, 0, 2, 3,\n",
       "       3, 0, 3, 0, 2, 3, 2, 3, 0, 2, 0, 2, 3, 0, 1, 1, 0, 0, 1, 2, 1, 3,\n",
       "       3, 3, 2, 3, 1, 2, 2, 3, 3, 3, 2, 0, 2, 1, 2, 2, 1, 0, 2, 2, 0, 0,\n",
       "       0, 3, 1, 0, 2, 2, 2, 0, 3, 1, 2, 2, 1, 3, 0, 2, 3, 0, 1, 1, 3, 3,\n",
       "       1, 1, 1, 3, 2, 0, 2, 0, 2, 0, 3, 3, 1, 3, 2, 2, 3, 0, 1, 2, 3, 1,\n",
       "       3, 2, 3, 1, 1, 0, 0, 3, 1, 0, 3, 2, 3, 3, 0, 2, 3, 3, 2, 3, 3, 1,\n",
       "       2, 1, 2, 2, 3, 1, 0, 1, 1, 2, 2, 2, 0, 0, 2, 2, 3, 2, 0, 2, 1, 3,\n",
       "       3, 0, 1, 3, 0, 2, 1, 1, 0, 0, 2, 1, 0, 1, 1, 2, 2, 0, 2, 2, 1, 0,\n",
       "       3, 0, 0, 3, 2, 0, 0, 1, 0, 0, 3, 0, 3, 1, 3, 2, 1, 3, 3, 0, 1, 0,\n",
       "       3, 2, 2, 2, 0, 3, 0, 2, 0, 2, 0, 0, 1, 1, 1, 2, 1, 3, 1, 3, 2, 2,\n",
       "       1, 3, 2, 0, 1, 2, 0, 3, 3, 0, 2, 1, 1, 2, 0, 3, 2, 0, 3, 2, 3, 0,\n",
       "       0, 3, 0, 2, 2, 3, 2, 2, 2, 2, 1, 2, 3, 0, 1, 0, 1, 2, 1, 0, 0, 1,\n",
       "       0, 0, 3, 1, 1, 2, 0, 1, 0, 1, 3, 0, 3, 2, 3, 0, 0, 1, 2, 2, 1, 0,\n",
       "       1, 1, 0, 1, 1, 0, 0, 3, 3, 0, 3, 1, 1, 3, 0, 1, 0, 2, 2, 0, 3, 1,\n",
       "       0, 3, 1, 1, 0, 3, 3, 3, 2, 3, 0, 3, 2, 0, 0, 0, 3, 3, 2, 0, 2, 1,\n",
       "       3, 0, 0, 2, 2, 0, 3, 1, 2, 1, 1, 1, 3, 1, 1, 1, 2, 1, 0, 2, 2, 0,\n",
       "       2, 0, 0, 0, 0, 2, 3, 3, 3, 0, 1, 2, 1, 1, 0, 0, 2, 1, 0, 2, 0, 3,\n",
       "       2, 2, 1, 2, 0, 2, 1, 3, 0, 0, 3, 2, 3, 0, 0, 2, 3, 3, 1, 3, 2, 1,\n",
       "       0, 0, 3, 3, 1, 3, 0, 0, 0, 2, 2, 1, 2, 0, 3, 2, 1, 2, 3, 3, 0, 1,\n",
       "       1, 2, 1, 2, 2, 0, 1, 3, 1, 1, 3, 0, 2, 3, 2, 1, 1, 1, 3, 3, 0, 2,\n",
       "       3, 0, 2, 3, 2, 2, 2, 3, 2, 0, 1, 2, 1, 2, 1, 1, 2, 2, 2, 1, 2, 1,\n",
       "       1, 1, 3, 1, 0, 1, 2, 3, 1, 0, 0, 3, 2, 2, 3, 0, 3, 2, 2, 1, 3, 0,\n",
       "       1, 3, 1, 1, 1, 2, 3, 2, 0, 3, 0, 2, 3, 0, 3, 1, 3, 3, 1, 0, 2, 3,\n",
       "       1, 0, 2, 1, 2, 1, 2, 0, 2, 2, 0, 2, 3, 2, 3, 0, 2, 1, 1, 2, 2, 3,\n",
       "       3, 0, 2, 1, 2, 1, 3, 0, 1, 3, 0, 1, 0, 0, 3, 3, 2, 0, 0, 0, 0, 3,\n",
       "       2, 3, 3, 0, 0, 2, 1, 0, 2, 2], dtype=int64)"
      ]
     },
     "execution_count": 83,
     "metadata": {},
     "output_type": "execute_result"
    }
   ],
   "source": [
    "#Testing Data On Unknown Data\n",
    "x_unknown=pd.read_csv(r\"MobileDatasetUnknownTest.csv\")\n",
    "x_unknown.drop([\"id\"],axis=1,inplace=True)\n",
    "\n",
    "from sklearn.preprocessing import StandardScaler\n",
    "st_x= StandardScaler()\n",
    "x_test_unknown= st_x.fit_transform(x_unknown)\n",
    "\n",
    "y_predicted_unknown= classifier.predict(x_test_unknown)\n",
    "y_predicted_unknown"
   ]
  },
  {
   "cell_type": "markdown",
   "id": "7467b9e2",
   "metadata": {},
   "source": [
    "## Adding The Predicted Price Range Values To The Predicted Dataset"
   ]
  },
  {
   "cell_type": "code",
   "execution_count": 86,
   "id": "9fcc5663",
   "metadata": {},
   "outputs": [
    {
     "data": {
      "text/html": [
       "<div>\n",
       "<style scoped>\n",
       "    .dataframe tbody tr th:only-of-type {\n",
       "        vertical-align: middle;\n",
       "    }\n",
       "\n",
       "    .dataframe tbody tr th {\n",
       "        vertical-align: top;\n",
       "    }\n",
       "\n",
       "    .dataframe thead th {\n",
       "        text-align: right;\n",
       "    }\n",
       "</style>\n",
       "<table border=\"1\" class=\"dataframe\">\n",
       "  <thead>\n",
       "    <tr style=\"text-align: right;\">\n",
       "      <th></th>\n",
       "      <th>battery_power</th>\n",
       "      <th>blue</th>\n",
       "      <th>clock_speed</th>\n",
       "      <th>dual_sim</th>\n",
       "      <th>fc</th>\n",
       "      <th>four_g</th>\n",
       "      <th>int_memory</th>\n",
       "      <th>m_dep</th>\n",
       "      <th>mobile_wt</th>\n",
       "      <th>n_cores</th>\n",
       "      <th>...</th>\n",
       "      <th>px_height</th>\n",
       "      <th>px_width</th>\n",
       "      <th>ram</th>\n",
       "      <th>sc_h</th>\n",
       "      <th>sc_w</th>\n",
       "      <th>talk_time</th>\n",
       "      <th>three_g</th>\n",
       "      <th>touch_screen</th>\n",
       "      <th>wifi</th>\n",
       "      <th>PricePredicted</th>\n",
       "    </tr>\n",
       "  </thead>\n",
       "  <tbody>\n",
       "    <tr>\n",
       "      <th>0</th>\n",
       "      <td>1043</td>\n",
       "      <td>1</td>\n",
       "      <td>1.8</td>\n",
       "      <td>1</td>\n",
       "      <td>14</td>\n",
       "      <td>0</td>\n",
       "      <td>5</td>\n",
       "      <td>0.1</td>\n",
       "      <td>193</td>\n",
       "      <td>3</td>\n",
       "      <td>...</td>\n",
       "      <td>226</td>\n",
       "      <td>1412</td>\n",
       "      <td>3476</td>\n",
       "      <td>12</td>\n",
       "      <td>7</td>\n",
       "      <td>2</td>\n",
       "      <td>0</td>\n",
       "      <td>1</td>\n",
       "      <td>0</td>\n",
       "      <td>3</td>\n",
       "    </tr>\n",
       "    <tr>\n",
       "      <th>1</th>\n",
       "      <td>841</td>\n",
       "      <td>1</td>\n",
       "      <td>0.5</td>\n",
       "      <td>1</td>\n",
       "      <td>4</td>\n",
       "      <td>1</td>\n",
       "      <td>61</td>\n",
       "      <td>0.8</td>\n",
       "      <td>191</td>\n",
       "      <td>5</td>\n",
       "      <td>...</td>\n",
       "      <td>746</td>\n",
       "      <td>857</td>\n",
       "      <td>3895</td>\n",
       "      <td>6</td>\n",
       "      <td>0</td>\n",
       "      <td>7</td>\n",
       "      <td>1</td>\n",
       "      <td>0</td>\n",
       "      <td>0</td>\n",
       "      <td>3</td>\n",
       "    </tr>\n",
       "    <tr>\n",
       "      <th>2</th>\n",
       "      <td>1807</td>\n",
       "      <td>1</td>\n",
       "      <td>2.8</td>\n",
       "      <td>0</td>\n",
       "      <td>1</td>\n",
       "      <td>0</td>\n",
       "      <td>27</td>\n",
       "      <td>0.9</td>\n",
       "      <td>186</td>\n",
       "      <td>3</td>\n",
       "      <td>...</td>\n",
       "      <td>1270</td>\n",
       "      <td>1366</td>\n",
       "      <td>2396</td>\n",
       "      <td>17</td>\n",
       "      <td>10</td>\n",
       "      <td>10</td>\n",
       "      <td>0</td>\n",
       "      <td>1</td>\n",
       "      <td>1</td>\n",
       "      <td>2</td>\n",
       "    </tr>\n",
       "    <tr>\n",
       "      <th>3</th>\n",
       "      <td>1546</td>\n",
       "      <td>0</td>\n",
       "      <td>0.5</td>\n",
       "      <td>1</td>\n",
       "      <td>18</td>\n",
       "      <td>1</td>\n",
       "      <td>25</td>\n",
       "      <td>0.5</td>\n",
       "      <td>96</td>\n",
       "      <td>8</td>\n",
       "      <td>...</td>\n",
       "      <td>295</td>\n",
       "      <td>1752</td>\n",
       "      <td>3893</td>\n",
       "      <td>10</td>\n",
       "      <td>0</td>\n",
       "      <td>7</td>\n",
       "      <td>1</td>\n",
       "      <td>1</td>\n",
       "      <td>0</td>\n",
       "      <td>3</td>\n",
       "    </tr>\n",
       "    <tr>\n",
       "      <th>4</th>\n",
       "      <td>1434</td>\n",
       "      <td>0</td>\n",
       "      <td>1.4</td>\n",
       "      <td>0</td>\n",
       "      <td>11</td>\n",
       "      <td>1</td>\n",
       "      <td>49</td>\n",
       "      <td>0.5</td>\n",
       "      <td>108</td>\n",
       "      <td>6</td>\n",
       "      <td>...</td>\n",
       "      <td>749</td>\n",
       "      <td>810</td>\n",
       "      <td>1773</td>\n",
       "      <td>15</td>\n",
       "      <td>8</td>\n",
       "      <td>7</td>\n",
       "      <td>1</td>\n",
       "      <td>0</td>\n",
       "      <td>1</td>\n",
       "      <td>1</td>\n",
       "    </tr>\n",
       "    <tr>\n",
       "      <th>...</th>\n",
       "      <td>...</td>\n",
       "      <td>...</td>\n",
       "      <td>...</td>\n",
       "      <td>...</td>\n",
       "      <td>...</td>\n",
       "      <td>...</td>\n",
       "      <td>...</td>\n",
       "      <td>...</td>\n",
       "      <td>...</td>\n",
       "      <td>...</td>\n",
       "      <td>...</td>\n",
       "      <td>...</td>\n",
       "      <td>...</td>\n",
       "      <td>...</td>\n",
       "      <td>...</td>\n",
       "      <td>...</td>\n",
       "      <td>...</td>\n",
       "      <td>...</td>\n",
       "      <td>...</td>\n",
       "      <td>...</td>\n",
       "      <td>...</td>\n",
       "    </tr>\n",
       "    <tr>\n",
       "      <th>995</th>\n",
       "      <td>1700</td>\n",
       "      <td>1</td>\n",
       "      <td>1.9</td>\n",
       "      <td>0</td>\n",
       "      <td>0</td>\n",
       "      <td>1</td>\n",
       "      <td>54</td>\n",
       "      <td>0.5</td>\n",
       "      <td>170</td>\n",
       "      <td>7</td>\n",
       "      <td>...</td>\n",
       "      <td>644</td>\n",
       "      <td>913</td>\n",
       "      <td>2121</td>\n",
       "      <td>14</td>\n",
       "      <td>8</td>\n",
       "      <td>15</td>\n",
       "      <td>1</td>\n",
       "      <td>1</td>\n",
       "      <td>0</td>\n",
       "      <td>2</td>\n",
       "    </tr>\n",
       "    <tr>\n",
       "      <th>996</th>\n",
       "      <td>609</td>\n",
       "      <td>0</td>\n",
       "      <td>1.8</td>\n",
       "      <td>1</td>\n",
       "      <td>0</td>\n",
       "      <td>0</td>\n",
       "      <td>13</td>\n",
       "      <td>0.9</td>\n",
       "      <td>186</td>\n",
       "      <td>4</td>\n",
       "      <td>...</td>\n",
       "      <td>1152</td>\n",
       "      <td>1632</td>\n",
       "      <td>1933</td>\n",
       "      <td>8</td>\n",
       "      <td>1</td>\n",
       "      <td>19</td>\n",
       "      <td>0</td>\n",
       "      <td>1</td>\n",
       "      <td>1</td>\n",
       "      <td>1</td>\n",
       "    </tr>\n",
       "    <tr>\n",
       "      <th>997</th>\n",
       "      <td>1185</td>\n",
       "      <td>0</td>\n",
       "      <td>1.4</td>\n",
       "      <td>0</td>\n",
       "      <td>1</td>\n",
       "      <td>1</td>\n",
       "      <td>8</td>\n",
       "      <td>0.5</td>\n",
       "      <td>80</td>\n",
       "      <td>1</td>\n",
       "      <td>...</td>\n",
       "      <td>477</td>\n",
       "      <td>825</td>\n",
       "      <td>1223</td>\n",
       "      <td>5</td>\n",
       "      <td>0</td>\n",
       "      <td>14</td>\n",
       "      <td>1</td>\n",
       "      <td>0</td>\n",
       "      <td>0</td>\n",
       "      <td>0</td>\n",
       "    </tr>\n",
       "    <tr>\n",
       "      <th>998</th>\n",
       "      <td>1533</td>\n",
       "      <td>1</td>\n",
       "      <td>0.5</td>\n",
       "      <td>1</td>\n",
       "      <td>0</td>\n",
       "      <td>0</td>\n",
       "      <td>50</td>\n",
       "      <td>0.4</td>\n",
       "      <td>171</td>\n",
       "      <td>2</td>\n",
       "      <td>...</td>\n",
       "      <td>38</td>\n",
       "      <td>832</td>\n",
       "      <td>2509</td>\n",
       "      <td>15</td>\n",
       "      <td>11</td>\n",
       "      <td>6</td>\n",
       "      <td>0</td>\n",
       "      <td>1</td>\n",
       "      <td>0</td>\n",
       "      <td>2</td>\n",
       "    </tr>\n",
       "    <tr>\n",
       "      <th>999</th>\n",
       "      <td>1270</td>\n",
       "      <td>1</td>\n",
       "      <td>0.5</td>\n",
       "      <td>0</td>\n",
       "      <td>4</td>\n",
       "      <td>1</td>\n",
       "      <td>35</td>\n",
       "      <td>0.1</td>\n",
       "      <td>140</td>\n",
       "      <td>6</td>\n",
       "      <td>...</td>\n",
       "      <td>457</td>\n",
       "      <td>608</td>\n",
       "      <td>2828</td>\n",
       "      <td>9</td>\n",
       "      <td>2</td>\n",
       "      <td>3</td>\n",
       "      <td>1</td>\n",
       "      <td>0</td>\n",
       "      <td>1</td>\n",
       "      <td>2</td>\n",
       "    </tr>\n",
       "  </tbody>\n",
       "</table>\n",
       "<p>1000 rows × 21 columns</p>\n",
       "</div>"
      ],
      "text/plain": [
       "     battery_power  blue  clock_speed  dual_sim  fc  four_g  int_memory  \\\n",
       "0             1043     1          1.8         1  14       0           5   \n",
       "1              841     1          0.5         1   4       1          61   \n",
       "2             1807     1          2.8         0   1       0          27   \n",
       "3             1546     0          0.5         1  18       1          25   \n",
       "4             1434     0          1.4         0  11       1          49   \n",
       "..             ...   ...          ...       ...  ..     ...         ...   \n",
       "995           1700     1          1.9         0   0       1          54   \n",
       "996            609     0          1.8         1   0       0          13   \n",
       "997           1185     0          1.4         0   1       1           8   \n",
       "998           1533     1          0.5         1   0       0          50   \n",
       "999           1270     1          0.5         0   4       1          35   \n",
       "\n",
       "     m_dep  mobile_wt  n_cores  ...  px_height  px_width   ram  sc_h  sc_w  \\\n",
       "0      0.1        193        3  ...        226      1412  3476    12     7   \n",
       "1      0.8        191        5  ...        746       857  3895     6     0   \n",
       "2      0.9        186        3  ...       1270      1366  2396    17    10   \n",
       "3      0.5         96        8  ...        295      1752  3893    10     0   \n",
       "4      0.5        108        6  ...        749       810  1773    15     8   \n",
       "..     ...        ...      ...  ...        ...       ...   ...   ...   ...   \n",
       "995    0.5        170        7  ...        644       913  2121    14     8   \n",
       "996    0.9        186        4  ...       1152      1632  1933     8     1   \n",
       "997    0.5         80        1  ...        477       825  1223     5     0   \n",
       "998    0.4        171        2  ...         38       832  2509    15    11   \n",
       "999    0.1        140        6  ...        457       608  2828     9     2   \n",
       "\n",
       "     talk_time  three_g  touch_screen  wifi  PricePredicted  \n",
       "0            2        0             1     0               3  \n",
       "1            7        1             0     0               3  \n",
       "2           10        0             1     1               2  \n",
       "3            7        1             1     0               3  \n",
       "4            7        1             0     1               1  \n",
       "..         ...      ...           ...   ...             ...  \n",
       "995         15        1             1     0               2  \n",
       "996         19        0             1     1               1  \n",
       "997         14        1             0     0               0  \n",
       "998          6        0             1     0               2  \n",
       "999          3        1             0     1               2  \n",
       "\n",
       "[1000 rows x 21 columns]"
      ]
     },
     "execution_count": 86,
     "metadata": {},
     "output_type": "execute_result"
    }
   ],
   "source": [
    "x_unknown[\"PricePredicted\"]=y_predicted_unknown\n",
    "x_unknown"
   ]
  }
 ],
 "metadata": {
  "kernelspec": {
   "display_name": "Python 3",
   "language": "python",
   "name": "python3"
  },
  "language_info": {
   "codemirror_mode": {
    "name": "ipython",
    "version": 3
   },
   "file_extension": ".py",
   "mimetype": "text/x-python",
   "name": "python",
   "nbconvert_exporter": "python",
   "pygments_lexer": "ipython3",
   "version": "3.8.8"
  }
 },
 "nbformat": 4,
 "nbformat_minor": 5
}
